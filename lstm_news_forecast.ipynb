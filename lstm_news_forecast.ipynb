{
  "nbformat": 4,
  "nbformat_minor": 0,
  "metadata": {
    "colab": {
      "provenance": []
    },
    "kernelspec": {
      "name": "python3",
      "display_name": "Python 3"
    },
    "language_info": {
      "name": "python"
    }
  },
  "cells": [
    {
      "cell_type": "code",
      "execution_count": 313,
      "metadata": {
        "id": "paOZ5oUXbtFm"
      },
      "outputs": [],
      "source": [
        "!pip install newspaper3k transformers sentence-transformers -q"
      ]
    },
    {
      "cell_type": "code",
      "source": [
        "!pip install feedparser"
      ],
      "metadata": {
        "colab": {
          "base_uri": "https://localhost:8080/"
        },
        "id": "b7HFtDPrfvj2",
        "outputId": "1275861b-e195-46fe-a04e-b8062d09964f"
      },
      "execution_count": 314,
      "outputs": [
        {
          "output_type": "stream",
          "name": "stdout",
          "text": [
            "Requirement already satisfied: feedparser in /usr/local/lib/python3.11/dist-packages (6.0.11)\n",
            "Requirement already satisfied: sgmllib3k in /usr/local/lib/python3.11/dist-packages (from feedparser) (1.0.0)\n"
          ]
        }
      ]
    },
    {
      "cell_type": "code",
      "source": [
        "!pip install lxml_html_clean"
      ],
      "metadata": {
        "colab": {
          "base_uri": "https://localhost:8080/"
        },
        "id": "ZgeGIEBld2nw",
        "outputId": "7ed666e9-f9b9-4fb4-f421-d3bdda8354e3"
      },
      "execution_count": 315,
      "outputs": [
        {
          "output_type": "stream",
          "name": "stdout",
          "text": [
            "Requirement already satisfied: lxml_html_clean in /usr/local/lib/python3.11/dist-packages (0.4.2)\n",
            "Requirement already satisfied: lxml in /usr/local/lib/python3.11/dist-packages (from lxml_html_clean) (5.4.0)\n"
          ]
        }
      ]
    },
    {
      "cell_type": "code",
      "source": [
        "from transformers import pipeline\n",
        "from sentence_transformers import SentenceTransformer\n",
        "from sklearn.ensemble import RandomForestClassifier\n",
        "from sklearn.cluster import KMeans\n",
        "from sklearn.model_selection import train_test_split\n",
        "from sklearn.metrics import classification_report\n",
        "import matplotlib.pyplot as plt\n",
        "import seaborn as sns\n",
        "import pandas as pd\n",
        "import numpy as np\n",
        "import datetime\n",
        "import feedparser"
      ],
      "metadata": {
        "id": "FuHb1NTdb6I0"
      },
      "execution_count": 316,
      "outputs": []
    },
    {
      "cell_type": "code",
      "source": [
        "import tensorflow as tf\n",
        "from tensorflow.keras.models import Sequential\n",
        "from tensorflow.keras.layers import LSTM, Dense, Dropout, Masking\n",
        "from tensorflow.keras.preprocessing.sequence import pad_sequences"
      ],
      "metadata": {
        "id": "32GT5JW-kPBg"
      },
      "execution_count": 317,
      "outputs": []
    },
    {
      "cell_type": "code",
      "source": [
        "from newspaper import Article"
      ],
      "metadata": {
        "id": "71QxJr45c80g"
      },
      "execution_count": 318,
      "outputs": []
    },
    {
      "cell_type": "code",
      "source": [
        "rss_feeds = [\n",
        "    \"https://rssexport.rbc.ru/rbcnews/news/20/full.rss\",\n",
        "    \"https://meduza.io/rss/all\",\n",
        "    \"https://tass.ru/rss/v2.xml\"\n",
        "]\n",
        "\"\"\",\n",
        "    \"http://feeds.bbci.co.uk/russian/rss.xml\",\n",
        "    \"https://www.interfax.ru/rss.asp\",\n",
        "    \"https://russian.rt.com/rss\"\"\""
      ],
      "metadata": {
        "colab": {
          "base_uri": "https://localhost:8080/",
          "height": 38
        },
        "id": "hAIBqELob8aw",
        "outputId": "a31b48d7-6c83-4bac-915c-ae6e4ea133f5"
      },
      "execution_count": 319,
      "outputs": [
        {
          "output_type": "execute_result",
          "data": {
            "text/plain": [
              "',\\n    \"http://feeds.bbci.co.uk/russian/rss.xml\",\\n    \"https://www.interfax.ru/rss.asp\",\\n    \"https://russian.rt.com/rss'"
            ],
            "application/vnd.google.colaboratory.intrinsic+json": {
              "type": "string"
            }
          },
          "metadata": {},
          "execution_count": 319
        }
      ]
    },
    {
      "cell_type": "code",
      "source": [
        "def get_latest_articles(max_articles=20):\n",
        "    urls = []\n",
        "    for feed_url in rss_feeds:\n",
        "        d = feedparser.parse(feed_url)\n",
        "        for entry in d.entries:\n",
        "            if len(urls) >= max_articles:\n",
        "                break\n",
        "            urls.append(entry.link)\n",
        "        if len(urls) >= max_articles:\n",
        "            break\n",
        "    return urls\n",
        "\n",
        "def get_article_text(url):\n",
        "    article = Article(url)\n",
        "    article.download()\n",
        "    article.parse()\n",
        "    return article.text"
      ],
      "metadata": {
        "id": "A2SgHThHf-cN"
      },
      "execution_count": 320,
      "outputs": []
    },
    {
      "cell_type": "code",
      "source": [
        "sentiment_model = pipeline(\"text-classification\", model=\"cointegrated/rubert-tiny-sentiment-balanced\", return_all_scores=False)\n",
        "embedding_model = SentenceTransformer(\"paraphrase-multilingual-MiniLM-L12-v2\")"
      ],
      "metadata": {
        "colab": {
          "base_uri": "https://localhost:8080/"
        },
        "id": "wdt-04LKhFoo",
        "outputId": "82c34c77-0927-4089-d65c-78427da6941d"
      },
      "execution_count": 321,
      "outputs": [
        {
          "output_type": "stream",
          "name": "stderr",
          "text": [
            "Device set to use cpu\n"
          ]
        }
      ]
    },
    {
      "cell_type": "code",
      "source": [
        "k = 60\n",
        "urls = get_latest_articles(k)\n",
        "data = []\n",
        "i = 0\n",
        "step = k // 1\n",
        "for url in urls:\n",
        "    i += 1\n",
        "    if i %step  == 0:\n",
        "        print(i // step)\n",
        "    try:\n",
        "        text = get_article_text(url)\n",
        "        sentiment = sentiment_model(text[:512])[0]  # 512 токенов\n",
        "        embedding = embedding_model.encode(text)\n",
        "        data.append({\n",
        "            \"url\": url,\n",
        "            \"text\": text,\n",
        "            \"sentiment\": sentiment[\"label\"],\n",
        "            \"score\": sentiment[\"score\"],\n",
        "            \"embedding\": embedding\n",
        "        })\n",
        "    except Exception as e:\n",
        "        print(f\"Ошибка {url}: {e}\")\n",
        "\n",
        "df = pd.DataFrame(data)"
      ],
      "metadata": {
        "colab": {
          "base_uri": "https://localhost:8080/"
        },
        "id": "hHvl15s9cKWa",
        "outputId": "7676b38e-926b-4da7-fc82-4ee7bad39ccb"
      },
      "execution_count": 359,
      "outputs": [
        {
          "output_type": "stream",
          "name": "stdout",
          "text": [
            "1\n"
          ]
        }
      ]
    },
    {
      "cell_type": "code",
      "source": [
        "df"
      ],
      "metadata": {
        "colab": {
          "base_uri": "https://localhost:8080/",
          "height": 1000
        },
        "id": "5Dck7lk0ess-",
        "outputId": "d4c0566b-f128-4a4a-ca0e-37f88870ef54"
      },
      "execution_count": 360,
      "outputs": [
        {
          "output_type": "execute_result",
          "data": {
            "text/plain": [
              "                                                  url  \\\n",
              "0   https://meduza.io/news/2025/05/26/avtomobil-v-...   \n",
              "1   https://meduza.io/paragraph/2025/05/26/inostra...   \n",
              "2   https://meduza.io/news/2025/05/26/v-magnitogor...   \n",
              "3   https://meduza.io/news/2025/05/26/v-kremle-naz...   \n",
              "4   https://meduza.io/news/2025/05/26/v-peterburge...   \n",
              "5   https://meduza.io/news/2025/05/26/reuters-hama...   \n",
              "6   https://meduza.io/feature/2025/05/26/putin-dem...   \n",
              "7   https://meduza.io/feature/2025/05/26/kazhdyy-d...   \n",
              "8   https://meduza.io/news/2025/05/26/mid-finlyand...   \n",
              "9   https://meduza.io/feature/2025/05/26/lyubov-mo...   \n",
              "10         https://meduza.io/feature/2025/05/26/voyna   \n",
              "11  https://meduza.io/news/2025/05/26/knizhnyy-mag...   \n",
              "12  https://meduza.io/feature/2025/05/26/kloun-neu...   \n",
              "13  https://meduza.io/news/2025/05/26/merts-zayavi...   \n",
              "14  https://meduza.io/news/2025/05/26/kndr-soobsch...   \n",
              "15  https://meduza.io/feature/2025/05/26/pomoschni...   \n",
              "16  https://meduza.io/news/2025/05/26/v-azerbaydzh...   \n",
              "17  https://meduza.io/news/2025/05/26/v-yaroslavsk...   \n",
              "18  https://meduza.io/news/2025/05/26/sud-otkazal-...   \n",
              "19  https://meduza.io/news/2025/05/26/laureat-nobe...   \n",
              "20  https://meduza.io/news/2025/05/26/eto-moment-k...   \n",
              "21  https://meduza.io/news/2025/05/26/financial-ti...   \n",
              "22  https://meduza.io/news/2025/05/26/drony-atakov...   \n",
              "23  https://meduza.io/news/2025/05/26/rossiyskaya-...   \n",
              "24  https://meduza.io/news/2025/05/26/ssha-otlozhi...   \n",
              "25  https://meduza.io/news/2025/05/26/tramp-zayavi...   \n",
              "26  https://meduza.io/news/2025/05/26/tramp-putin-...   \n",
              "27  https://meduza.io/feature/2025/05/26/bayden-ne...   \n",
              "28  https://meduza.io/cards/konstitutsionnyy-sud-r...   \n",
              "29  https://meduza.io/feature/2025/05/26/svoego-ro...   \n",
              "30                 https://tass.ru/ekonomika/24052587   \n",
              "31                https://tass.ru/obschestvo/24052581   \n",
              "32                      https://tass.ru/info/24052563   \n",
              "33            https://tass.ru/proisshestviya/24052609   \n",
              "34                https://tass.ru/obschestvo/24052597   \n",
              "35            https://tass.ru/proisshestviya/24052573   \n",
              "36                https://tass.ru/obschestvo/24052559   \n",
              "37                 https://tass.ru/ekonomika/24052545   \n",
              "38                https://tass.ru/obschestvo/24052531   \n",
              "39            https://tass.ru/proisshestviya/24052525   \n",
              "40                     https://tass.ru/sport/24052511   \n",
              "41                https://tass.ru/obschestvo/24052489   \n",
              "42  https://tass.ru/mezhdunarodnaya-panorama/24052475   \n",
              "43                https://tass.ru/obschestvo/24052449   \n",
              "44                https://tass.ru/obschestvo/24052471   \n",
              "45  https://tass.ru/mezhdunarodnaya-panorama/24052465   \n",
              "46            https://tass.ru/proisshestviya/24052373   \n",
              "47  https://tass.ru/mezhdunarodnaya-panorama/24052459   \n",
              "48                 https://tass.ru/ekonomika/24052439   \n",
              "49            https://tass.ru/proisshestviya/24052385   \n",
              "50                https://tass.ru/obschestvo/24052435   \n",
              "51  https://tass.ru/mezhdunarodnaya-panorama/24052329   \n",
              "52                   https://tass.ru/kultura/24052445   \n",
              "53            https://tass.ru/proisshestviya/24052425   \n",
              "54  https://tass.ru/mezhdunarodnaya-panorama/24052401   \n",
              "55                 https://tass.ru/ekonomika/24052013   \n",
              "56  https://tass.ru/mezhdunarodnaya-panorama/24052393   \n",
              "57  https://tass.ru/mezhdunarodnaya-panorama/24052419   \n",
              "58  https://tass.ru/mezhdunarodnaya-panorama/24052327   \n",
              "59                 https://tass.ru/ekonomika/24052355   \n",
              "\n",
              "                                                 text sentiment     score  \\\n",
              "0   В городе Ливерпуль автомобиль въехал в толпу ф...  negative  0.849835   \n",
              "1   Ряд иностранных компаний ушли из России по при...  negative  0.604852   \n",
              "2   Орджоникидзевский районный суд Магнитогорска о...   neutral  0.778351   \n",
              "3   В Кремле считают «опасным» решение европейских...   neutral  0.991276   \n",
              "4   1-й Западный окружной военный суд в Петербурге...   neutral  0.768832   \n",
              "5   ХАМАС согласился на предложение спецпосланника...   neutral  0.986090   \n",
              "6   Россия три ночи подряд атаковала города Украин...  negative  0.989521   \n",
              "7   В последние дни вместо прогресса в мирных пере...  negative  0.718934   \n",
              "8   МИД Финляндии вызвал посла России Павла Кузнец...  negative  0.579184   \n",
              "9   «Любовь в условиях турбулентности» — первая по...   neutral  0.961588   \n",
              "10  Руины дома в Коростышеве Житомирской области, ...  negative  0.822473   \n",
              "11  Тверской районный суд Москвы назначил книжному...   neutral  0.963371   \n",
              "12  «Медуза» запускает новое шоу на ютьюбе. Оно на...   neutral  0.795280   \n",
              "13  Германия, Великобритания, Франция и США сняли ...   neutral  0.988254   \n",
              "14  В Северной Корее арестовали заместителя заведу...  negative  0.712551   \n",
              "15  Кадеты с развернутой репликой Знамени Победы в...   neutral  0.995996   \n",
              "16  В Азербайджане стал недоступен сайт телеканала...   neutral  0.941384   \n",
              "17  Власти Ярославской области сообщили, что в рег...  negative  0.791093   \n",
              "18  Мещанский районный суд Москвы отказал в иске х...   neutral  0.785862   \n",
              "19  Лауреат Нобелевской премии мира и бывший главн...   neutral  0.994196   \n",
              "20  Пост президента США Дональда Трампа, в котором...   neutral  0.949432   \n",
              "21  Китай повысил свои возможности к внезапному на...   neutral  0.890376   \n",
              "22  Беспилотники в ночь на 26 мая нанесли удары по...   neutral  0.551164   \n",
              "23  Российские войска в ночь на 26 мая атаковали У...  negative  0.911720   \n",
              "24  Президент США Дональд Трамп 25 мая заявил, что...   neutral  0.949169   \n",
              "25  Президент США Дональд Трамп, комментируя масси...  negative  0.964236   \n",
              "26  Президент США Дональд Трамп раскритиковал през...  negative  0.719408   \n",
              "27  Jim Watson / AFP / Scanpix / LETA\\n\\nОкружение...  negative  0.939650   \n",
              "28  2 Что это еще за сроки исковой давности? Это у...  negative  0.555060   \n",
              "29  Евгений Биятов / Sputnik / Profimedia\\n\\nПолит...   neutral  0.997919   \n",
              "30  Объем финансирования составит 1,5 млрд рублей\\...  positive  0.702294   \n",
              "31  Речь идет об увеличении с 3 до 6 тыс. рублей р...   neutral  0.850600   \n",
              "32  Канцлер Германии заявил, что ограничений на да...   neutral  0.992583   \n",
              "33  Сирены звучат в Сумской и Харьковской областях...  positive  0.970214   \n",
              "34  Документ направлен на усиление гарантий по защ...   neutral  0.807019   \n",
              "35  Пострадавших нет\\n\\nМОСКВА, 26 мая. /ТАСС/. Дв...   neutral  0.874177   \n",
              "36  Студентов будут набирать на программу \"Информа...   neutral  0.996621   \n",
              "37  План увеличения торгового оборота рассчитан на...  positive  0.517888   \n",
              "38  Это символ глубокой связи и солидарности между...   neutral  0.612997   \n",
              "39  Автомобиль остановили на месте происшествия во...   neutral  0.941585   \n",
              "40  Россиянка на старте турнира обыграла итальянку...   neutral  0.975925   \n",
              "41  Ян Гагин отметил, что, вероятно, \"азовцы\" не п...  negative  0.738442   \n",
              "42  По данным газеты, президент США \"отступает от ...  negative  0.527827   \n",
              "43  Принять участие в заявочной кампании может каж...   neutral  0.992809   \n",
              "44  По мнению первого заместителя председателя ком...   neutral  0.893189   \n",
              "45  Тегеран не станет поддаваться давлению в ходе ...   neutral  0.908173   \n",
              "46  Все сотрудники были эвакуированы в целях предо...   neutral  0.971168   \n",
              "47  Американский лидер отметил, что на его нынешни...   neutral  0.951521   \n",
              "48  Он должен получать необходимую поддержку, заяв...   neutral  0.991314   \n",
              "49  Свидетельств о конкретной опасности у правоохр...  negative  0.968986   \n",
              "50  Лидер ЛДПР Леонид Слуцкий заявил, что военносл...   neutral  0.929453   \n",
              "51  Политик указал в качестве одного из участников...   neutral  0.977655   \n",
              "52  Мероприятие проходило с 22 по 25 мая\\n\\nВОРОНЕ...  positive  0.791840   \n",
              "53  Инцидент произошел 24 мая ночью\\n\\nСАНКТ-ПЕТЕР...  negative  0.741488   \n",
              "54  Если немецкое оружие ударит по российским горо...   neutral  0.749509   \n",
              "55  Инфраструктурное развитие позволит университет...   neutral  0.994662   \n",
              "56  Обеспечение безопасности Израиля остается для ...   neutral  0.953387   \n",
              "57  Вопрос обогащения и мирной атомной энергетики ...   neutral  0.996541   \n",
              "58  По данным газеты, риск серьезной эскалации в Б...  negative  0.744092   \n",
              "59  Жюри конкурса отметило работу журналистов реда...   neutral  0.924225   \n",
              "\n",
              "                                            embedding  \n",
              "0   [0.2756306, 0.17896695, -0.15425056, -0.085860...  \n",
              "1   [-0.018470934, -0.22223859, -0.07264909, -0.15...  \n",
              "2   [0.027494747, 0.25456882, -0.12227332, 0.01772...  \n",
              "3   [-0.11402885, 0.060970116, -0.1887607, 0.02822...  \n",
              "4   [-0.13162625, 0.11599587, -0.32515007, -0.1373...  \n",
              "5   [0.058162626, 0.3261719, 0.08526462, -0.152252...  \n",
              "6   [-0.072006725, -0.07513012, -0.19329306, 0.098...  \n",
              "7   [-0.06514683, -0.08117759, -0.18101636, 0.0378...  \n",
              "8   [-0.2619754, 0.14563806, -0.17459264, -0.13942...  \n",
              "9   [-0.07439526, 0.11337181, -0.102187596, 0.1503...  \n",
              "10  [-0.1033188, 0.03285657, -0.07320217, 0.051862...  \n",
              "11  [-0.069544196, 0.12913314, -0.30976072, 0.0091...  \n",
              "12  [0.0763359, -0.2798231, -0.09486674, -0.137005...  \n",
              "13  [0.08476085, 0.117592804, -0.103570975, -0.055...  \n",
              "14  [-0.13859211, 0.1486606, -0.08081475, -0.15892...  \n",
              "15  [-0.1845539, 0.1169608, -0.18327546, -0.084809...  \n",
              "16  [-0.050310336, -0.19881134, -0.2143728, -0.019...  \n",
              "17  [-0.054005362, 0.030982845, -0.14807457, -0.19...  \n",
              "18  [-0.032452326, 0.18780394, -0.21962607, -0.092...  \n",
              "19  [-0.23525326, 0.1999203, -0.271693, -0.0299480...  \n",
              "20  [-0.0787203, -0.0044549806, -0.14215781, 0.009...  \n",
              "21  [-0.2793943, 0.0487727, 0.1320218, -0.02640771...  \n",
              "22  [-0.038650155, -0.14359896, -0.081587926, -0.0...  \n",
              "23  [-0.10399283, 0.009701557, -0.11341505, -0.001...  \n",
              "24  [0.066612005, 0.127419, -0.07725768, -0.090371...  \n",
              "25  [0.054410018, -0.020425163, -0.15641221, -0.04...  \n",
              "26  [-0.054539934, -0.017322794, -0.036070712, 0.0...  \n",
              "27  [-0.017603558, 0.1622649, -0.2779799, -0.04916...  \n",
              "28  [-0.21269058, 0.109168135, -0.1143707, -0.0736...  \n",
              "29  [-0.1704604, 0.041968435, -0.23212105, -0.2058...  \n",
              "30  [-0.2110612, 0.16983785, -0.14884236, -0.01753...  \n",
              "31  [-0.048058808, 0.0959723, -0.031899527, 0.0802...  \n",
              "32  [-0.032871775, 0.22732559, -0.08097685, -0.088...  \n",
              "33  [0.113836266, 0.081677616, -0.08135012, 0.1531...  \n",
              "34  [0.020862054, 0.32541937, -0.5031062, 0.064456...  \n",
              "35  [-0.0012947572, 0.24419647, -0.10567546, 0.329...  \n",
              "36  [0.008945919, 0.14037845, -0.37092254, -0.1817...  \n",
              "37  [-0.21908802, -0.041936032, -0.09152894, 0.010...  \n",
              "38  [-0.11781236, 0.31068623, -0.16272406, 0.08021...  \n",
              "39  [0.18838108, 0.18124853, -0.1312104, -0.085473...  \n",
              "40  [0.028684873, 0.107391626, -0.16885257, 0.0408...  \n",
              "41  [-0.19437326, 0.0010633296, -0.3406399, -0.019...  \n",
              "42  [0.117504135, 0.04045955, -0.05108219, 0.09205...  \n",
              "43  [0.030476205, 0.14476275, -0.19418605, -0.0805...  \n",
              "44  [-0.07737511, -0.02930519, -0.23782803, -0.097...  \n",
              "45  [-0.06488378, 0.3654759, -0.12156373, -0.17047...  \n",
              "46  [0.066394225, 0.11105727, -0.07188013, 0.13570...  \n",
              "47  [0.07890996, 0.2767939, 0.08543098, -0.2687669...  \n",
              "48  [-0.18162219, 0.08185131, -0.116632245, -0.077...  \n",
              "49  [0.15272081, 0.17352, -0.20775136, -0.09932151...  \n",
              "50  [-0.16287495, 0.13014534, -0.17266126, -0.2100...  \n",
              "51  [-0.1348113, 0.2249414, -0.23551326, -0.029657...  \n",
              "52  [0.30677894, -0.07005717, -0.07536672, -0.1010...  \n",
              "53  [-0.17227219, 0.3405577, -0.09909162, 0.035601...  \n",
              "54  [-0.13188663, 0.2114114, -0.14767614, 0.119579...  \n",
              "55  [0.14765526, -0.0013732342, 0.056368966, 0.019...  \n",
              "56  [-0.05554113, 0.39064604, -0.03508398, -0.1577...  \n",
              "57  [-0.0304326, 0.20878085, -0.14032313, -0.03680...  \n",
              "58  [0.049348004, 0.059673548, -0.07321892, 0.1162...  \n",
              "59  [-0.12291555, 0.05151591, -0.39190423, -0.0467...  "
            ],
            "text/html": [
              "\n",
              "  <div id=\"df-bdd4e829-e0a3-4f09-8c9a-1c3c0df47f7a\" class=\"colab-df-container\">\n",
              "    <div>\n",
              "<style scoped>\n",
              "    .dataframe tbody tr th:only-of-type {\n",
              "        vertical-align: middle;\n",
              "    }\n",
              "\n",
              "    .dataframe tbody tr th {\n",
              "        vertical-align: top;\n",
              "    }\n",
              "\n",
              "    .dataframe thead th {\n",
              "        text-align: right;\n",
              "    }\n",
              "</style>\n",
              "<table border=\"1\" class=\"dataframe\">\n",
              "  <thead>\n",
              "    <tr style=\"text-align: right;\">\n",
              "      <th></th>\n",
              "      <th>url</th>\n",
              "      <th>text</th>\n",
              "      <th>sentiment</th>\n",
              "      <th>score</th>\n",
              "      <th>embedding</th>\n",
              "    </tr>\n",
              "  </thead>\n",
              "  <tbody>\n",
              "    <tr>\n",
              "      <th>0</th>\n",
              "      <td>https://meduza.io/news/2025/05/26/avtomobil-v-...</td>\n",
              "      <td>В городе Ливерпуль автомобиль въехал в толпу ф...</td>\n",
              "      <td>negative</td>\n",
              "      <td>0.849835</td>\n",
              "      <td>[0.2756306, 0.17896695, -0.15425056, -0.085860...</td>\n",
              "    </tr>\n",
              "    <tr>\n",
              "      <th>1</th>\n",
              "      <td>https://meduza.io/paragraph/2025/05/26/inostra...</td>\n",
              "      <td>Ряд иностранных компаний ушли из России по при...</td>\n",
              "      <td>negative</td>\n",
              "      <td>0.604852</td>\n",
              "      <td>[-0.018470934, -0.22223859, -0.07264909, -0.15...</td>\n",
              "    </tr>\n",
              "    <tr>\n",
              "      <th>2</th>\n",
              "      <td>https://meduza.io/news/2025/05/26/v-magnitogor...</td>\n",
              "      <td>Орджоникидзевский районный суд Магнитогорска о...</td>\n",
              "      <td>neutral</td>\n",
              "      <td>0.778351</td>\n",
              "      <td>[0.027494747, 0.25456882, -0.12227332, 0.01772...</td>\n",
              "    </tr>\n",
              "    <tr>\n",
              "      <th>3</th>\n",
              "      <td>https://meduza.io/news/2025/05/26/v-kremle-naz...</td>\n",
              "      <td>В Кремле считают «опасным» решение европейских...</td>\n",
              "      <td>neutral</td>\n",
              "      <td>0.991276</td>\n",
              "      <td>[-0.11402885, 0.060970116, -0.1887607, 0.02822...</td>\n",
              "    </tr>\n",
              "    <tr>\n",
              "      <th>4</th>\n",
              "      <td>https://meduza.io/news/2025/05/26/v-peterburge...</td>\n",
              "      <td>1-й Западный окружной военный суд в Петербурге...</td>\n",
              "      <td>neutral</td>\n",
              "      <td>0.768832</td>\n",
              "      <td>[-0.13162625, 0.11599587, -0.32515007, -0.1373...</td>\n",
              "    </tr>\n",
              "    <tr>\n",
              "      <th>5</th>\n",
              "      <td>https://meduza.io/news/2025/05/26/reuters-hama...</td>\n",
              "      <td>ХАМАС согласился на предложение спецпосланника...</td>\n",
              "      <td>neutral</td>\n",
              "      <td>0.986090</td>\n",
              "      <td>[0.058162626, 0.3261719, 0.08526462, -0.152252...</td>\n",
              "    </tr>\n",
              "    <tr>\n",
              "      <th>6</th>\n",
              "      <td>https://meduza.io/feature/2025/05/26/putin-dem...</td>\n",
              "      <td>Россия три ночи подряд атаковала города Украин...</td>\n",
              "      <td>negative</td>\n",
              "      <td>0.989521</td>\n",
              "      <td>[-0.072006725, -0.07513012, -0.19329306, 0.098...</td>\n",
              "    </tr>\n",
              "    <tr>\n",
              "      <th>7</th>\n",
              "      <td>https://meduza.io/feature/2025/05/26/kazhdyy-d...</td>\n",
              "      <td>В последние дни вместо прогресса в мирных пере...</td>\n",
              "      <td>negative</td>\n",
              "      <td>0.718934</td>\n",
              "      <td>[-0.06514683, -0.08117759, -0.18101636, 0.0378...</td>\n",
              "    </tr>\n",
              "    <tr>\n",
              "      <th>8</th>\n",
              "      <td>https://meduza.io/news/2025/05/26/mid-finlyand...</td>\n",
              "      <td>МИД Финляндии вызвал посла России Павла Кузнец...</td>\n",
              "      <td>negative</td>\n",
              "      <td>0.579184</td>\n",
              "      <td>[-0.2619754, 0.14563806, -0.17459264, -0.13942...</td>\n",
              "    </tr>\n",
              "    <tr>\n",
              "      <th>9</th>\n",
              "      <td>https://meduza.io/feature/2025/05/26/lyubov-mo...</td>\n",
              "      <td>«Любовь в условиях турбулентности» — первая по...</td>\n",
              "      <td>neutral</td>\n",
              "      <td>0.961588</td>\n",
              "      <td>[-0.07439526, 0.11337181, -0.102187596, 0.1503...</td>\n",
              "    </tr>\n",
              "    <tr>\n",
              "      <th>10</th>\n",
              "      <td>https://meduza.io/feature/2025/05/26/voyna</td>\n",
              "      <td>Руины дома в Коростышеве Житомирской области, ...</td>\n",
              "      <td>negative</td>\n",
              "      <td>0.822473</td>\n",
              "      <td>[-0.1033188, 0.03285657, -0.07320217, 0.051862...</td>\n",
              "    </tr>\n",
              "    <tr>\n",
              "      <th>11</th>\n",
              "      <td>https://meduza.io/news/2025/05/26/knizhnyy-mag...</td>\n",
              "      <td>Тверской районный суд Москвы назначил книжному...</td>\n",
              "      <td>neutral</td>\n",
              "      <td>0.963371</td>\n",
              "      <td>[-0.069544196, 0.12913314, -0.30976072, 0.0091...</td>\n",
              "    </tr>\n",
              "    <tr>\n",
              "      <th>12</th>\n",
              "      <td>https://meduza.io/feature/2025/05/26/kloun-neu...</td>\n",
              "      <td>«Медуза» запускает новое шоу на ютьюбе. Оно на...</td>\n",
              "      <td>neutral</td>\n",
              "      <td>0.795280</td>\n",
              "      <td>[0.0763359, -0.2798231, -0.09486674, -0.137005...</td>\n",
              "    </tr>\n",
              "    <tr>\n",
              "      <th>13</th>\n",
              "      <td>https://meduza.io/news/2025/05/26/merts-zayavi...</td>\n",
              "      <td>Германия, Великобритания, Франция и США сняли ...</td>\n",
              "      <td>neutral</td>\n",
              "      <td>0.988254</td>\n",
              "      <td>[0.08476085, 0.117592804, -0.103570975, -0.055...</td>\n",
              "    </tr>\n",
              "    <tr>\n",
              "      <th>14</th>\n",
              "      <td>https://meduza.io/news/2025/05/26/kndr-soobsch...</td>\n",
              "      <td>В Северной Корее арестовали заместителя заведу...</td>\n",
              "      <td>negative</td>\n",
              "      <td>0.712551</td>\n",
              "      <td>[-0.13859211, 0.1486606, -0.08081475, -0.15892...</td>\n",
              "    </tr>\n",
              "    <tr>\n",
              "      <th>15</th>\n",
              "      <td>https://meduza.io/feature/2025/05/26/pomoschni...</td>\n",
              "      <td>Кадеты с развернутой репликой Знамени Победы в...</td>\n",
              "      <td>neutral</td>\n",
              "      <td>0.995996</td>\n",
              "      <td>[-0.1845539, 0.1169608, -0.18327546, -0.084809...</td>\n",
              "    </tr>\n",
              "    <tr>\n",
              "      <th>16</th>\n",
              "      <td>https://meduza.io/news/2025/05/26/v-azerbaydzh...</td>\n",
              "      <td>В Азербайджане стал недоступен сайт телеканала...</td>\n",
              "      <td>neutral</td>\n",
              "      <td>0.941384</td>\n",
              "      <td>[-0.050310336, -0.19881134, -0.2143728, -0.019...</td>\n",
              "    </tr>\n",
              "    <tr>\n",
              "      <th>17</th>\n",
              "      <td>https://meduza.io/news/2025/05/26/v-yaroslavsk...</td>\n",
              "      <td>Власти Ярославской области сообщили, что в рег...</td>\n",
              "      <td>negative</td>\n",
              "      <td>0.791093</td>\n",
              "      <td>[-0.054005362, 0.030982845, -0.14807457, -0.19...</td>\n",
              "    </tr>\n",
              "    <tr>\n",
              "      <th>18</th>\n",
              "      <td>https://meduza.io/news/2025/05/26/sud-otkazal-...</td>\n",
              "      <td>Мещанский районный суд Москвы отказал в иске х...</td>\n",
              "      <td>neutral</td>\n",
              "      <td>0.785862</td>\n",
              "      <td>[-0.032452326, 0.18780394, -0.21962607, -0.092...</td>\n",
              "    </tr>\n",
              "    <tr>\n",
              "      <th>19</th>\n",
              "      <td>https://meduza.io/news/2025/05/26/laureat-nobe...</td>\n",
              "      <td>Лауреат Нобелевской премии мира и бывший главн...</td>\n",
              "      <td>neutral</td>\n",
              "      <td>0.994196</td>\n",
              "      <td>[-0.23525326, 0.1999203, -0.271693, -0.0299480...</td>\n",
              "    </tr>\n",
              "    <tr>\n",
              "      <th>20</th>\n",
              "      <td>https://meduza.io/news/2025/05/26/eto-moment-k...</td>\n",
              "      <td>Пост президента США Дональда Трампа, в котором...</td>\n",
              "      <td>neutral</td>\n",
              "      <td>0.949432</td>\n",
              "      <td>[-0.0787203, -0.0044549806, -0.14215781, 0.009...</td>\n",
              "    </tr>\n",
              "    <tr>\n",
              "      <th>21</th>\n",
              "      <td>https://meduza.io/news/2025/05/26/financial-ti...</td>\n",
              "      <td>Китай повысил свои возможности к внезапному на...</td>\n",
              "      <td>neutral</td>\n",
              "      <td>0.890376</td>\n",
              "      <td>[-0.2793943, 0.0487727, 0.1320218, -0.02640771...</td>\n",
              "    </tr>\n",
              "    <tr>\n",
              "      <th>22</th>\n",
              "      <td>https://meduza.io/news/2025/05/26/drony-atakov...</td>\n",
              "      <td>Беспилотники в ночь на 26 мая нанесли удары по...</td>\n",
              "      <td>neutral</td>\n",
              "      <td>0.551164</td>\n",
              "      <td>[-0.038650155, -0.14359896, -0.081587926, -0.0...</td>\n",
              "    </tr>\n",
              "    <tr>\n",
              "      <th>23</th>\n",
              "      <td>https://meduza.io/news/2025/05/26/rossiyskaya-...</td>\n",
              "      <td>Российские войска в ночь на 26 мая атаковали У...</td>\n",
              "      <td>negative</td>\n",
              "      <td>0.911720</td>\n",
              "      <td>[-0.10399283, 0.009701557, -0.11341505, -0.001...</td>\n",
              "    </tr>\n",
              "    <tr>\n",
              "      <th>24</th>\n",
              "      <td>https://meduza.io/news/2025/05/26/ssha-otlozhi...</td>\n",
              "      <td>Президент США Дональд Трамп 25 мая заявил, что...</td>\n",
              "      <td>neutral</td>\n",
              "      <td>0.949169</td>\n",
              "      <td>[0.066612005, 0.127419, -0.07725768, -0.090371...</td>\n",
              "    </tr>\n",
              "    <tr>\n",
              "      <th>25</th>\n",
              "      <td>https://meduza.io/news/2025/05/26/tramp-zayavi...</td>\n",
              "      <td>Президент США Дональд Трамп, комментируя масси...</td>\n",
              "      <td>negative</td>\n",
              "      <td>0.964236</td>\n",
              "      <td>[0.054410018, -0.020425163, -0.15641221, -0.04...</td>\n",
              "    </tr>\n",
              "    <tr>\n",
              "      <th>26</th>\n",
              "      <td>https://meduza.io/news/2025/05/26/tramp-putin-...</td>\n",
              "      <td>Президент США Дональд Трамп раскритиковал през...</td>\n",
              "      <td>negative</td>\n",
              "      <td>0.719408</td>\n",
              "      <td>[-0.054539934, -0.017322794, -0.036070712, 0.0...</td>\n",
              "    </tr>\n",
              "    <tr>\n",
              "      <th>27</th>\n",
              "      <td>https://meduza.io/feature/2025/05/26/bayden-ne...</td>\n",
              "      <td>Jim Watson / AFP / Scanpix / LETA\\n\\nОкружение...</td>\n",
              "      <td>negative</td>\n",
              "      <td>0.939650</td>\n",
              "      <td>[-0.017603558, 0.1622649, -0.2779799, -0.04916...</td>\n",
              "    </tr>\n",
              "    <tr>\n",
              "      <th>28</th>\n",
              "      <td>https://meduza.io/cards/konstitutsionnyy-sud-r...</td>\n",
              "      <td>2 Что это еще за сроки исковой давности? Это у...</td>\n",
              "      <td>negative</td>\n",
              "      <td>0.555060</td>\n",
              "      <td>[-0.21269058, 0.109168135, -0.1143707, -0.0736...</td>\n",
              "    </tr>\n",
              "    <tr>\n",
              "      <th>29</th>\n",
              "      <td>https://meduza.io/feature/2025/05/26/svoego-ro...</td>\n",
              "      <td>Евгений Биятов / Sputnik / Profimedia\\n\\nПолит...</td>\n",
              "      <td>neutral</td>\n",
              "      <td>0.997919</td>\n",
              "      <td>[-0.1704604, 0.041968435, -0.23212105, -0.2058...</td>\n",
              "    </tr>\n",
              "    <tr>\n",
              "      <th>30</th>\n",
              "      <td>https://tass.ru/ekonomika/24052587</td>\n",
              "      <td>Объем финансирования составит 1,5 млрд рублей\\...</td>\n",
              "      <td>positive</td>\n",
              "      <td>0.702294</td>\n",
              "      <td>[-0.2110612, 0.16983785, -0.14884236, -0.01753...</td>\n",
              "    </tr>\n",
              "    <tr>\n",
              "      <th>31</th>\n",
              "      <td>https://tass.ru/obschestvo/24052581</td>\n",
              "      <td>Речь идет об увеличении с 3 до 6 тыс. рублей р...</td>\n",
              "      <td>neutral</td>\n",
              "      <td>0.850600</td>\n",
              "      <td>[-0.048058808, 0.0959723, -0.031899527, 0.0802...</td>\n",
              "    </tr>\n",
              "    <tr>\n",
              "      <th>32</th>\n",
              "      <td>https://tass.ru/info/24052563</td>\n",
              "      <td>Канцлер Германии заявил, что ограничений на да...</td>\n",
              "      <td>neutral</td>\n",
              "      <td>0.992583</td>\n",
              "      <td>[-0.032871775, 0.22732559, -0.08097685, -0.088...</td>\n",
              "    </tr>\n",
              "    <tr>\n",
              "      <th>33</th>\n",
              "      <td>https://tass.ru/proisshestviya/24052609</td>\n",
              "      <td>Сирены звучат в Сумской и Харьковской областях...</td>\n",
              "      <td>positive</td>\n",
              "      <td>0.970214</td>\n",
              "      <td>[0.113836266, 0.081677616, -0.08135012, 0.1531...</td>\n",
              "    </tr>\n",
              "    <tr>\n",
              "      <th>34</th>\n",
              "      <td>https://tass.ru/obschestvo/24052597</td>\n",
              "      <td>Документ направлен на усиление гарантий по защ...</td>\n",
              "      <td>neutral</td>\n",
              "      <td>0.807019</td>\n",
              "      <td>[0.020862054, 0.32541937, -0.5031062, 0.064456...</td>\n",
              "    </tr>\n",
              "    <tr>\n",
              "      <th>35</th>\n",
              "      <td>https://tass.ru/proisshestviya/24052573</td>\n",
              "      <td>Пострадавших нет\\n\\nМОСКВА, 26 мая. /ТАСС/. Дв...</td>\n",
              "      <td>neutral</td>\n",
              "      <td>0.874177</td>\n",
              "      <td>[-0.0012947572, 0.24419647, -0.10567546, 0.329...</td>\n",
              "    </tr>\n",
              "    <tr>\n",
              "      <th>36</th>\n",
              "      <td>https://tass.ru/obschestvo/24052559</td>\n",
              "      <td>Студентов будут набирать на программу \"Информа...</td>\n",
              "      <td>neutral</td>\n",
              "      <td>0.996621</td>\n",
              "      <td>[0.008945919, 0.14037845, -0.37092254, -0.1817...</td>\n",
              "    </tr>\n",
              "    <tr>\n",
              "      <th>37</th>\n",
              "      <td>https://tass.ru/ekonomika/24052545</td>\n",
              "      <td>План увеличения торгового оборота рассчитан на...</td>\n",
              "      <td>positive</td>\n",
              "      <td>0.517888</td>\n",
              "      <td>[-0.21908802, -0.041936032, -0.09152894, 0.010...</td>\n",
              "    </tr>\n",
              "    <tr>\n",
              "      <th>38</th>\n",
              "      <td>https://tass.ru/obschestvo/24052531</td>\n",
              "      <td>Это символ глубокой связи и солидарности между...</td>\n",
              "      <td>neutral</td>\n",
              "      <td>0.612997</td>\n",
              "      <td>[-0.11781236, 0.31068623, -0.16272406, 0.08021...</td>\n",
              "    </tr>\n",
              "    <tr>\n",
              "      <th>39</th>\n",
              "      <td>https://tass.ru/proisshestviya/24052525</td>\n",
              "      <td>Автомобиль остановили на месте происшествия во...</td>\n",
              "      <td>neutral</td>\n",
              "      <td>0.941585</td>\n",
              "      <td>[0.18838108, 0.18124853, -0.1312104, -0.085473...</td>\n",
              "    </tr>\n",
              "    <tr>\n",
              "      <th>40</th>\n",
              "      <td>https://tass.ru/sport/24052511</td>\n",
              "      <td>Россиянка на старте турнира обыграла итальянку...</td>\n",
              "      <td>neutral</td>\n",
              "      <td>0.975925</td>\n",
              "      <td>[0.028684873, 0.107391626, -0.16885257, 0.0408...</td>\n",
              "    </tr>\n",
              "    <tr>\n",
              "      <th>41</th>\n",
              "      <td>https://tass.ru/obschestvo/24052489</td>\n",
              "      <td>Ян Гагин отметил, что, вероятно, \"азовцы\" не п...</td>\n",
              "      <td>negative</td>\n",
              "      <td>0.738442</td>\n",
              "      <td>[-0.19437326, 0.0010633296, -0.3406399, -0.019...</td>\n",
              "    </tr>\n",
              "    <tr>\n",
              "      <th>42</th>\n",
              "      <td>https://tass.ru/mezhdunarodnaya-panorama/24052475</td>\n",
              "      <td>По данным газеты, президент США \"отступает от ...</td>\n",
              "      <td>negative</td>\n",
              "      <td>0.527827</td>\n",
              "      <td>[0.117504135, 0.04045955, -0.05108219, 0.09205...</td>\n",
              "    </tr>\n",
              "    <tr>\n",
              "      <th>43</th>\n",
              "      <td>https://tass.ru/obschestvo/24052449</td>\n",
              "      <td>Принять участие в заявочной кампании может каж...</td>\n",
              "      <td>neutral</td>\n",
              "      <td>0.992809</td>\n",
              "      <td>[0.030476205, 0.14476275, -0.19418605, -0.0805...</td>\n",
              "    </tr>\n",
              "    <tr>\n",
              "      <th>44</th>\n",
              "      <td>https://tass.ru/obschestvo/24052471</td>\n",
              "      <td>По мнению первого заместителя председателя ком...</td>\n",
              "      <td>neutral</td>\n",
              "      <td>0.893189</td>\n",
              "      <td>[-0.07737511, -0.02930519, -0.23782803, -0.097...</td>\n",
              "    </tr>\n",
              "    <tr>\n",
              "      <th>45</th>\n",
              "      <td>https://tass.ru/mezhdunarodnaya-panorama/24052465</td>\n",
              "      <td>Тегеран не станет поддаваться давлению в ходе ...</td>\n",
              "      <td>neutral</td>\n",
              "      <td>0.908173</td>\n",
              "      <td>[-0.06488378, 0.3654759, -0.12156373, -0.17047...</td>\n",
              "    </tr>\n",
              "    <tr>\n",
              "      <th>46</th>\n",
              "      <td>https://tass.ru/proisshestviya/24052373</td>\n",
              "      <td>Все сотрудники были эвакуированы в целях предо...</td>\n",
              "      <td>neutral</td>\n",
              "      <td>0.971168</td>\n",
              "      <td>[0.066394225, 0.11105727, -0.07188013, 0.13570...</td>\n",
              "    </tr>\n",
              "    <tr>\n",
              "      <th>47</th>\n",
              "      <td>https://tass.ru/mezhdunarodnaya-panorama/24052459</td>\n",
              "      <td>Американский лидер отметил, что на его нынешни...</td>\n",
              "      <td>neutral</td>\n",
              "      <td>0.951521</td>\n",
              "      <td>[0.07890996, 0.2767939, 0.08543098, -0.2687669...</td>\n",
              "    </tr>\n",
              "    <tr>\n",
              "      <th>48</th>\n",
              "      <td>https://tass.ru/ekonomika/24052439</td>\n",
              "      <td>Он должен получать необходимую поддержку, заяв...</td>\n",
              "      <td>neutral</td>\n",
              "      <td>0.991314</td>\n",
              "      <td>[-0.18162219, 0.08185131, -0.116632245, -0.077...</td>\n",
              "    </tr>\n",
              "    <tr>\n",
              "      <th>49</th>\n",
              "      <td>https://tass.ru/proisshestviya/24052385</td>\n",
              "      <td>Свидетельств о конкретной опасности у правоохр...</td>\n",
              "      <td>negative</td>\n",
              "      <td>0.968986</td>\n",
              "      <td>[0.15272081, 0.17352, -0.20775136, -0.09932151...</td>\n",
              "    </tr>\n",
              "    <tr>\n",
              "      <th>50</th>\n",
              "      <td>https://tass.ru/obschestvo/24052435</td>\n",
              "      <td>Лидер ЛДПР Леонид Слуцкий заявил, что военносл...</td>\n",
              "      <td>neutral</td>\n",
              "      <td>0.929453</td>\n",
              "      <td>[-0.16287495, 0.13014534, -0.17266126, -0.2100...</td>\n",
              "    </tr>\n",
              "    <tr>\n",
              "      <th>51</th>\n",
              "      <td>https://tass.ru/mezhdunarodnaya-panorama/24052329</td>\n",
              "      <td>Политик указал в качестве одного из участников...</td>\n",
              "      <td>neutral</td>\n",
              "      <td>0.977655</td>\n",
              "      <td>[-0.1348113, 0.2249414, -0.23551326, -0.029657...</td>\n",
              "    </tr>\n",
              "    <tr>\n",
              "      <th>52</th>\n",
              "      <td>https://tass.ru/kultura/24052445</td>\n",
              "      <td>Мероприятие проходило с 22 по 25 мая\\n\\nВОРОНЕ...</td>\n",
              "      <td>positive</td>\n",
              "      <td>0.791840</td>\n",
              "      <td>[0.30677894, -0.07005717, -0.07536672, -0.1010...</td>\n",
              "    </tr>\n",
              "    <tr>\n",
              "      <th>53</th>\n",
              "      <td>https://tass.ru/proisshestviya/24052425</td>\n",
              "      <td>Инцидент произошел 24 мая ночью\\n\\nСАНКТ-ПЕТЕР...</td>\n",
              "      <td>negative</td>\n",
              "      <td>0.741488</td>\n",
              "      <td>[-0.17227219, 0.3405577, -0.09909162, 0.035601...</td>\n",
              "    </tr>\n",
              "    <tr>\n",
              "      <th>54</th>\n",
              "      <td>https://tass.ru/mezhdunarodnaya-panorama/24052401</td>\n",
              "      <td>Если немецкое оружие ударит по российским горо...</td>\n",
              "      <td>neutral</td>\n",
              "      <td>0.749509</td>\n",
              "      <td>[-0.13188663, 0.2114114, -0.14767614, 0.119579...</td>\n",
              "    </tr>\n",
              "    <tr>\n",
              "      <th>55</th>\n",
              "      <td>https://tass.ru/ekonomika/24052013</td>\n",
              "      <td>Инфраструктурное развитие позволит университет...</td>\n",
              "      <td>neutral</td>\n",
              "      <td>0.994662</td>\n",
              "      <td>[0.14765526, -0.0013732342, 0.056368966, 0.019...</td>\n",
              "    </tr>\n",
              "    <tr>\n",
              "      <th>56</th>\n",
              "      <td>https://tass.ru/mezhdunarodnaya-panorama/24052393</td>\n",
              "      <td>Обеспечение безопасности Израиля остается для ...</td>\n",
              "      <td>neutral</td>\n",
              "      <td>0.953387</td>\n",
              "      <td>[-0.05554113, 0.39064604, -0.03508398, -0.1577...</td>\n",
              "    </tr>\n",
              "    <tr>\n",
              "      <th>57</th>\n",
              "      <td>https://tass.ru/mezhdunarodnaya-panorama/24052419</td>\n",
              "      <td>Вопрос обогащения и мирной атомной энергетики ...</td>\n",
              "      <td>neutral</td>\n",
              "      <td>0.996541</td>\n",
              "      <td>[-0.0304326, 0.20878085, -0.14032313, -0.03680...</td>\n",
              "    </tr>\n",
              "    <tr>\n",
              "      <th>58</th>\n",
              "      <td>https://tass.ru/mezhdunarodnaya-panorama/24052327</td>\n",
              "      <td>По данным газеты, риск серьезной эскалации в Б...</td>\n",
              "      <td>negative</td>\n",
              "      <td>0.744092</td>\n",
              "      <td>[0.049348004, 0.059673548, -0.07321892, 0.1162...</td>\n",
              "    </tr>\n",
              "    <tr>\n",
              "      <th>59</th>\n",
              "      <td>https://tass.ru/ekonomika/24052355</td>\n",
              "      <td>Жюри конкурса отметило работу журналистов реда...</td>\n",
              "      <td>neutral</td>\n",
              "      <td>0.924225</td>\n",
              "      <td>[-0.12291555, 0.05151591, -0.39190423, -0.0467...</td>\n",
              "    </tr>\n",
              "  </tbody>\n",
              "</table>\n",
              "</div>\n",
              "    <div class=\"colab-df-buttons\">\n",
              "\n",
              "  <div class=\"colab-df-container\">\n",
              "    <button class=\"colab-df-convert\" onclick=\"convertToInteractive('df-bdd4e829-e0a3-4f09-8c9a-1c3c0df47f7a')\"\n",
              "            title=\"Convert this dataframe to an interactive table.\"\n",
              "            style=\"display:none;\">\n",
              "\n",
              "  <svg xmlns=\"http://www.w3.org/2000/svg\" height=\"24px\" viewBox=\"0 -960 960 960\">\n",
              "    <path d=\"M120-120v-720h720v720H120Zm60-500h600v-160H180v160Zm220 220h160v-160H400v160Zm0 220h160v-160H400v160ZM180-400h160v-160H180v160Zm440 0h160v-160H620v160ZM180-180h160v-160H180v160Zm440 0h160v-160H620v160Z\"/>\n",
              "  </svg>\n",
              "    </button>\n",
              "\n",
              "  <style>\n",
              "    .colab-df-container {\n",
              "      display:flex;\n",
              "      gap: 12px;\n",
              "    }\n",
              "\n",
              "    .colab-df-convert {\n",
              "      background-color: #E8F0FE;\n",
              "      border: none;\n",
              "      border-radius: 50%;\n",
              "      cursor: pointer;\n",
              "      display: none;\n",
              "      fill: #1967D2;\n",
              "      height: 32px;\n",
              "      padding: 0 0 0 0;\n",
              "      width: 32px;\n",
              "    }\n",
              "\n",
              "    .colab-df-convert:hover {\n",
              "      background-color: #E2EBFA;\n",
              "      box-shadow: 0px 1px 2px rgba(60, 64, 67, 0.3), 0px 1px 3px 1px rgba(60, 64, 67, 0.15);\n",
              "      fill: #174EA6;\n",
              "    }\n",
              "\n",
              "    .colab-df-buttons div {\n",
              "      margin-bottom: 4px;\n",
              "    }\n",
              "\n",
              "    [theme=dark] .colab-df-convert {\n",
              "      background-color: #3B4455;\n",
              "      fill: #D2E3FC;\n",
              "    }\n",
              "\n",
              "    [theme=dark] .colab-df-convert:hover {\n",
              "      background-color: #434B5C;\n",
              "      box-shadow: 0px 1px 3px 1px rgba(0, 0, 0, 0.15);\n",
              "      filter: drop-shadow(0px 1px 2px rgba(0, 0, 0, 0.3));\n",
              "      fill: #FFFFFF;\n",
              "    }\n",
              "  </style>\n",
              "\n",
              "    <script>\n",
              "      const buttonEl =\n",
              "        document.querySelector('#df-bdd4e829-e0a3-4f09-8c9a-1c3c0df47f7a button.colab-df-convert');\n",
              "      buttonEl.style.display =\n",
              "        google.colab.kernel.accessAllowed ? 'block' : 'none';\n",
              "\n",
              "      async function convertToInteractive(key) {\n",
              "        const element = document.querySelector('#df-bdd4e829-e0a3-4f09-8c9a-1c3c0df47f7a');\n",
              "        const dataTable =\n",
              "          await google.colab.kernel.invokeFunction('convertToInteractive',\n",
              "                                                    [key], {});\n",
              "        if (!dataTable) return;\n",
              "\n",
              "        const docLinkHtml = 'Like what you see? Visit the ' +\n",
              "          '<a target=\"_blank\" href=https://colab.research.google.com/notebooks/data_table.ipynb>data table notebook</a>'\n",
              "          + ' to learn more about interactive tables.';\n",
              "        element.innerHTML = '';\n",
              "        dataTable['output_type'] = 'display_data';\n",
              "        await google.colab.output.renderOutput(dataTable, element);\n",
              "        const docLink = document.createElement('div');\n",
              "        docLink.innerHTML = docLinkHtml;\n",
              "        element.appendChild(docLink);\n",
              "      }\n",
              "    </script>\n",
              "  </div>\n",
              "\n",
              "\n",
              "    <div id=\"df-68b5ce7c-f021-47f9-8c3a-19345af2e038\">\n",
              "      <button class=\"colab-df-quickchart\" onclick=\"quickchart('df-68b5ce7c-f021-47f9-8c3a-19345af2e038')\"\n",
              "                title=\"Suggest charts\"\n",
              "                style=\"display:none;\">\n",
              "\n",
              "<svg xmlns=\"http://www.w3.org/2000/svg\" height=\"24px\"viewBox=\"0 0 24 24\"\n",
              "     width=\"24px\">\n",
              "    <g>\n",
              "        <path d=\"M19 3H5c-1.1 0-2 .9-2 2v14c0 1.1.9 2 2 2h14c1.1 0 2-.9 2-2V5c0-1.1-.9-2-2-2zM9 17H7v-7h2v7zm4 0h-2V7h2v10zm4 0h-2v-4h2v4z\"/>\n",
              "    </g>\n",
              "</svg>\n",
              "      </button>\n",
              "\n",
              "<style>\n",
              "  .colab-df-quickchart {\n",
              "      --bg-color: #E8F0FE;\n",
              "      --fill-color: #1967D2;\n",
              "      --hover-bg-color: #E2EBFA;\n",
              "      --hover-fill-color: #174EA6;\n",
              "      --disabled-fill-color: #AAA;\n",
              "      --disabled-bg-color: #DDD;\n",
              "  }\n",
              "\n",
              "  [theme=dark] .colab-df-quickchart {\n",
              "      --bg-color: #3B4455;\n",
              "      --fill-color: #D2E3FC;\n",
              "      --hover-bg-color: #434B5C;\n",
              "      --hover-fill-color: #FFFFFF;\n",
              "      --disabled-bg-color: #3B4455;\n",
              "      --disabled-fill-color: #666;\n",
              "  }\n",
              "\n",
              "  .colab-df-quickchart {\n",
              "    background-color: var(--bg-color);\n",
              "    border: none;\n",
              "    border-radius: 50%;\n",
              "    cursor: pointer;\n",
              "    display: none;\n",
              "    fill: var(--fill-color);\n",
              "    height: 32px;\n",
              "    padding: 0;\n",
              "    width: 32px;\n",
              "  }\n",
              "\n",
              "  .colab-df-quickchart:hover {\n",
              "    background-color: var(--hover-bg-color);\n",
              "    box-shadow: 0 1px 2px rgba(60, 64, 67, 0.3), 0 1px 3px 1px rgba(60, 64, 67, 0.15);\n",
              "    fill: var(--button-hover-fill-color);\n",
              "  }\n",
              "\n",
              "  .colab-df-quickchart-complete:disabled,\n",
              "  .colab-df-quickchart-complete:disabled:hover {\n",
              "    background-color: var(--disabled-bg-color);\n",
              "    fill: var(--disabled-fill-color);\n",
              "    box-shadow: none;\n",
              "  }\n",
              "\n",
              "  .colab-df-spinner {\n",
              "    border: 2px solid var(--fill-color);\n",
              "    border-color: transparent;\n",
              "    border-bottom-color: var(--fill-color);\n",
              "    animation:\n",
              "      spin 1s steps(1) infinite;\n",
              "  }\n",
              "\n",
              "  @keyframes spin {\n",
              "    0% {\n",
              "      border-color: transparent;\n",
              "      border-bottom-color: var(--fill-color);\n",
              "      border-left-color: var(--fill-color);\n",
              "    }\n",
              "    20% {\n",
              "      border-color: transparent;\n",
              "      border-left-color: var(--fill-color);\n",
              "      border-top-color: var(--fill-color);\n",
              "    }\n",
              "    30% {\n",
              "      border-color: transparent;\n",
              "      border-left-color: var(--fill-color);\n",
              "      border-top-color: var(--fill-color);\n",
              "      border-right-color: var(--fill-color);\n",
              "    }\n",
              "    40% {\n",
              "      border-color: transparent;\n",
              "      border-right-color: var(--fill-color);\n",
              "      border-top-color: var(--fill-color);\n",
              "    }\n",
              "    60% {\n",
              "      border-color: transparent;\n",
              "      border-right-color: var(--fill-color);\n",
              "    }\n",
              "    80% {\n",
              "      border-color: transparent;\n",
              "      border-right-color: var(--fill-color);\n",
              "      border-bottom-color: var(--fill-color);\n",
              "    }\n",
              "    90% {\n",
              "      border-color: transparent;\n",
              "      border-bottom-color: var(--fill-color);\n",
              "    }\n",
              "  }\n",
              "</style>\n",
              "\n",
              "      <script>\n",
              "        async function quickchart(key) {\n",
              "          const quickchartButtonEl =\n",
              "            document.querySelector('#' + key + ' button');\n",
              "          quickchartButtonEl.disabled = true;  // To prevent multiple clicks.\n",
              "          quickchartButtonEl.classList.add('colab-df-spinner');\n",
              "          try {\n",
              "            const charts = await google.colab.kernel.invokeFunction(\n",
              "                'suggestCharts', [key], {});\n",
              "          } catch (error) {\n",
              "            console.error('Error during call to suggestCharts:', error);\n",
              "          }\n",
              "          quickchartButtonEl.classList.remove('colab-df-spinner');\n",
              "          quickchartButtonEl.classList.add('colab-df-quickchart-complete');\n",
              "        }\n",
              "        (() => {\n",
              "          let quickchartButtonEl =\n",
              "            document.querySelector('#df-68b5ce7c-f021-47f9-8c3a-19345af2e038 button');\n",
              "          quickchartButtonEl.style.display =\n",
              "            google.colab.kernel.accessAllowed ? 'block' : 'none';\n",
              "        })();\n",
              "      </script>\n",
              "    </div>\n",
              "    </div>\n",
              "  </div>\n"
            ],
            "application/vnd.google.colaboratory.intrinsic+json": {
              "type": "dataframe",
              "variable_name": "df",
              "summary": "{\n  \"name\": \"df\",\n  \"rows\": 60,\n  \"fields\": [\n    {\n      \"column\": \"url\",\n      \"properties\": {\n        \"dtype\": \"string\",\n        \"num_unique_values\": 60,\n        \"samples\": [\n          \"https://meduza.io/news/2025/05/26/avtomobil-v-ehal-v-tolpu-fanatov-liverpulya-prazdnuyuschih-pobedu-kluba-v-premier-lige\",\n          \"https://meduza.io/news/2025/05/26/reuters-hamas-soglasilsya-na-predlozhenie-ssha-o-prekraschenii-ognya-v-sektore-gaza\",\n          \"https://tass.ru/obschestvo/24052559\"\n        ],\n        \"semantic_type\": \"\",\n        \"description\": \"\"\n      }\n    },\n    {\n      \"column\": \"text\",\n      \"properties\": {\n        \"dtype\": \"string\",\n        \"num_unique_values\": 60,\n        \"samples\": [\n          \"\\u0412 \\u0433\\u043e\\u0440\\u043e\\u0434\\u0435 \\u041b\\u0438\\u0432\\u0435\\u0440\\u043f\\u0443\\u043b\\u044c \\u0430\\u0432\\u0442\\u043e\\u043c\\u043e\\u0431\\u0438\\u043b\\u044c \\u0432\\u044a\\u0435\\u0445\\u0430\\u043b \\u0432 \\u0442\\u043e\\u043b\\u043f\\u0443 \\u0444\\u0430\\u043d\\u0430\\u0442\\u043e\\u0432 \\u043e\\u0434\\u043d\\u043e\\u0438\\u043c\\u0435\\u043d\\u043d\\u043e\\u0433\\u043e \\u0444\\u0443\\u0442\\u0431\\u043e\\u043b\\u044c\\u043d\\u043e\\u0433\\u043e \\u043a\\u043b\\u0443\\u0431\\u0430, \\u043a\\u043e\\u0442\\u043e\\u0440\\u044b\\u0435 \\u043f\\u0440\\u0438\\u0448\\u043b\\u0438 \\u043d\\u0430 \\u043f\\u0430\\u0440\\u0430\\u0434 \\u0432 \\u0447\\u0435\\u0441\\u0442\\u044c \\u0435\\u0433\\u043e \\u043f\\u043e\\u0431\\u0435\\u0434\\u044b \\u0432 \\u0430\\u043d\\u0433\\u043b\\u0438\\u0439\\u0441\\u043a\\u043e\\u0439 \\u041f\\u0440\\u0435\\u043c\\u044c\\u0435\\u0440-\\u043b\\u0438\\u0433\\u0435. \\u0412\\u043e\\u0434\\u0438\\u0442\\u0435\\u043b\\u044c \\u043c\\u0430\\u0448\\u0438\\u043d\\u044b \\u0431\\u044b\\u043b \\u0437\\u0430\\u0434\\u0435\\u0440\\u0436\\u0430\\u043d, \\u043f\\u0438\\u0448\\u0435\\u0442 BBC News.\\n\\n\\u041d\\u0438 \\u043c\\u043e\\u0442\\u0438\\u0432 \\u0432\\u043e\\u0434\\u0438\\u0442\\u0435\\u043b\\u044f, \\u043d\\u0438 \\u0447\\u0438\\u0441\\u043b\\u043e \\u0436\\u0435\\u0440\\u0442\\u0432 \\u043f\\u043e\\u043a\\u0430 \\u043e\\u0444\\u0438\\u0446\\u0438\\u0430\\u043b\\u044c\\u043d\\u043e \\u043d\\u0435 \\u0441\\u043e\\u043e\\u0431\\u0449\\u0430\\u044e\\u0442\\u0441\\u044f. \\u041a\\u043e\\u0440\\u0440\\u0435\\u0441\\u043f\\u043e\\u043d\\u0434\\u0435\\u043d\\u0442 BBC News \\u0441\\u043e\\u043e\\u0431\\u0449\\u0430\\u0435\\u0442 \\u043d\\u0435 \\u043c\\u0435\\u043d\\u0435\\u0435 \\u0447\\u0435\\u043c \\u043e \\u0442\\u0440\\u0435\\u0445 \\u043f\\u043e\\u0441\\u0442\\u0440\\u0430\\u0434\\u0430\\u0432\\u0448\\u0438\\u0445. \\u0415\\u0441\\u0442\\u044c \\u043b\\u0438 \\u043f\\u043e\\u0433\\u0438\\u0431\\u0448\\u0438\\u0435, \\u0442\\u043e\\u0436\\u0435 \\u043d\\u0435\\u0438\\u0437\\u0432\\u0435\\u0441\\u0442\\u043d\\u043e.\\n\\n\\u041e\\u0447\\u0435\\u0432\\u0438\\u0434\\u0438\\u0446\\u0430 \\u043f\\u0440\\u043e\\u0438\\u0441\\u0448\\u0435\\u0441\\u0442\\u0432\\u0438\\u044f, \\u043a\\u043e\\u0442\\u043e\\u0440\\u0430\\u044f \\u043d\\u0430\\u0431\\u043b\\u044e\\u0434\\u0430\\u043b\\u0430 \\u0437\\u0430 \\u043f\\u0430\\u0440\\u0430\\u0434\\u043e\\u043c \\u0438\\u0437 \\u043e\\u043a\\u043d\\u0430, \\u0440\\u0430\\u0441\\u0441\\u043a\\u0430\\u0437\\u0430\\u043b\\u0430 Sky News, \\u0447\\u0442\\u043e \\u043f\\u043e\\u0441\\u043b\\u0435 \\u0441\\u0442\\u043e\\u043b\\u043a\\u043d\\u043e\\u0432\\u0435\\u043d\\u0438\\u044f \\u0443\\u0447\\u0430\\u0441\\u0442\\u043d\\u0438\\u043a\\u0438 \\u043f\\u0430\\u0440\\u0430\\u0434\\u0430 \\u0431\\u0440\\u043e\\u0441\\u0438\\u043b\\u0438\\u0441\\u044c \\u043f\\u0440\\u0435\\u0441\\u043b\\u0435\\u0434\\u043e\\u0432\\u0430\\u0442\\u044c \\u043c\\u0430\\u0448\\u0438\\u043d\\u0443 \\u0438 \\u043f\\u043e\\u043f\\u044b\\u0442\\u0430\\u043b\\u0438\\u0441\\u044c \\u0440\\u0430\\u0437\\u0431\\u0438\\u0442\\u044c \\u0435\\u0435, \\u043d\\u043e \\u0438\\u0445 \\u043e\\u0442\\u0442\\u0435\\u0441\\u043d\\u0438\\u043b\\u0438 \\u043f\\u043e\\u043b\\u0438\\u0446\\u0435\\u0439\\u0441\\u043a\\u0438\\u0435.\\n\\n\\u0412\\u043d\\u0438\\u043c\\u0430\\u043d\\u0438\\u0435! \\u041d\\u0430 \\u0432\\u0438\\u0434\\u0435\\u043e \\u043f\\u043e\\u043a\\u0430\\u0437\\u0430\\u043d\\u0430 \\u0441\\u0446\\u0435\\u043d\\u0430 \\u043d\\u0430\\u0441\\u0438\\u043b\\u0438\\u044f.\\n\\n\\u0412 \\u044d\\u0442\\u043e\\u043c \\u0441\\u0435\\u0437\\u043e\\u043d\\u0435 \\u00ab\\u041b\\u0438\\u0432\\u0435\\u0440\\u043f\\u0443\\u043b\\u044c\\u00bb \\u0434\\u043e\\u0441\\u0440\\u043e\\u0447\\u043d\\u043e \\u0432\\u044b\\u0438\\u0433\\u0440\\u0430\\u043b \\u041f\\u0440\\u0435\\u043c\\u044c\\u0435\\u0440-\\u043b\\u0438\\u0433\\u0443 \\u2014 \\u0443\\u0436\\u0435 \\u0432 20-\\u0439 \\u0440\\u0430\\u0437. \\u041a\\u043b\\u0443\\u0431 \\u0441\\u0442\\u0430\\u043b \\u0447\\u0435\\u043c\\u043f\\u0438\\u043e\\u043d\\u043e\\u043c \\u0430\\u043d\\u0433\\u043b\\u0438\\u0439\\u0441\\u043a\\u043e\\u0433\\u043e \\u0432\\u044b\\u0441\\u0448\\u0435\\u0433\\u043e \\u0444\\u0443\\u0442\\u0431\\u043e\\u043b\\u044c\\u043d\\u043e\\u0433\\u043e \\u0434\\u0438\\u0432\\u0438\\u0437\\u0438\\u043e\\u043d\\u0430 \\u0432\\u043f\\u0435\\u0440\\u0432\\u044b\\u0435 \\u0441 2020 \\u0433\\u043e\\u0434\\u0430. 25 \\u043c\\u0430\\u044f \\u043f\\u0440\\u043e\\u0448\\u043b\\u0430 \\u0446\\u0435\\u0440\\u0435\\u043c\\u043e\\u043d\\u0438\\u044f \\u043d\\u0430\\u0433\\u0440\\u0430\\u0436\\u0434\\u0435\\u043d\\u0438\\u044f \\u043a\\u043e\\u043c\\u0430\\u043d\\u0434\\u044b.\",\n          \"\\u0425\\u0410\\u041c\\u0410\\u0421 \\u0441\\u043e\\u0433\\u043b\\u0430\\u0441\\u0438\\u043b\\u0441\\u044f \\u043d\\u0430 \\u043f\\u0440\\u0435\\u0434\\u043b\\u043e\\u0436\\u0435\\u043d\\u0438\\u0435 \\u0441\\u043f\\u0435\\u0446\\u043f\\u043e\\u0441\\u043b\\u0430\\u043d\\u043d\\u0438\\u043a\\u0430 \\u0414\\u043e\\u043d\\u0430\\u043b\\u044c\\u0434\\u0430 \\u0422\\u0440\\u0430\\u043c\\u043f\\u0430 \\u043f\\u043e \\u0411\\u043b\\u0438\\u0436\\u043d\\u0435\\u043c\\u0443 \\u0412\\u043e\\u0441\\u0442\\u043e\\u043a\\u0443 \\u0421\\u0442\\u0438\\u0432\\u0430 \\u0423\\u0438\\u0442\\u043a\\u043e\\u0444\\u0444\\u0430 \\u043e \\u043f\\u0440\\u0435\\u043a\\u0440\\u0430\\u0449\\u0435\\u043d\\u0438\\u0438 \\u043e\\u0433\\u043d\\u044f \\u0432 \\u0441\\u0435\\u043a\\u0442\\u043e\\u0440\\u0435 \\u0413\\u0430\\u0437\\u0430, \\u0441\\u043e\\u043e\\u0431\\u0449\\u0430\\u044e\\u0442 Reuters \\u0441\\u043e \\u0441\\u0441\\u044b\\u043b\\u043a\\u043e\\u0439 \\u043d\\u0430 \\u043f\\u0430\\u043b\\u0435\\u0441\\u0442\\u0438\\u043d\\u0441\\u043a\\u043e\\u0433\\u043e \\u0447\\u0438\\u043d\\u043e\\u0432\\u043d\\u0438\\u043a\\u0430, \\u0431\\u043b\\u0438\\u0437\\u043a\\u043e\\u0433\\u043e \\u043a \\u0442\\u0435\\u0440\\u0440\\u043e\\u0440\\u0438\\u0441\\u0442\\u0438\\u0447\\u0435\\u0441\\u043a\\u043e\\u0439 \\u0433\\u0440\\u0443\\u043f\\u043f\\u0438\\u0440\\u043e\\u0432\\u043a\\u0435, \\u0438 Agence France-Presse.\\n\\n\\u041f\\u043e \\u0434\\u0430\\u043d\\u043d\\u044b\\u043c \\u0438\\u0441\\u0442\\u043e\\u0447\\u043d\\u0438\\u043a\\u0430 Reuters, \\u043f\\u0440\\u0435\\u0434\\u043b\\u043e\\u0436\\u0435\\u043d\\u0438\\u0435 \\u0423\\u0438\\u0442\\u043a\\u043e\\u0444\\u0444\\u0430 \\u043f\\u0440\\u0435\\u0434\\u0443\\u0441\\u043c\\u0430\\u0442\\u0440\\u0438\\u0432\\u0430\\u0435\\u0442 \\u043e\\u0441\\u0432\\u043e\\u0431\\u043e\\u0436\\u0434\\u0435\\u043d\\u0438\\u0435 \\u0434\\u0435\\u0441\\u044f\\u0442\\u0438 \\u0438\\u0437\\u0440\\u0430\\u0438\\u043b\\u044c\\u0441\\u043a\\u0438\\u0445 \\u0437\\u0430\\u043b\\u043e\\u0436\\u043d\\u0438\\u043a\\u043e\\u0432 (\\u0438\\u0445 \\u0432\\u044b\\u043f\\u0443\\u0441\\u0442\\u044f\\u0442 \\u0434\\u0432\\u0443\\u043c\\u044f \\u0433\\u0440\\u0443\\u043f\\u043f\\u0430\\u043c\\u0438) \\u0438 70-\\u0434\\u043d\\u0435\\u0432\\u043d\\u043e\\u0435 \\u043f\\u0440\\u0435\\u043a\\u0440\\u0430\\u0449\\u0435\\u043d\\u0438\\u0435 \\u043e\\u0433\\u043d\\u044f, \\u0430 \\u0442\\u0430\\u043a\\u0436\\u0435 \\u0447\\u0430\\u0441\\u0442\\u0438\\u0447\\u043d\\u044b\\u0439 \\u0432\\u044b\\u0432\\u043e\\u0434 \\u0438\\u0437\\u0440\\u0430\\u0438\\u043b\\u044c\\u0441\\u043a\\u0438\\u0445 \\u0432\\u043e\\u0439\\u0441\\u043a \\u0438\\u0437 \\u0441\\u0435\\u043a\\u0442\\u043e\\u0440\\u0430. \\u0418\\u0437\\u0440\\u0430\\u0438\\u043b\\u044c \\u0432 \\u043e\\u0442\\u0432\\u0435\\u0442 \\u0434\\u043e\\u043b\\u0436\\u0435\\u043d \\u043e\\u0441\\u0432\\u043e\\u0431\\u043e\\u0434\\u0438\\u0442\\u044c \\u043f\\u0430\\u043b\\u0435\\u0441\\u0442\\u0438\\u043d\\u0441\\u043a\\u0438\\u0445 \\u0437\\u0430\\u043a\\u043b\\u044e\\u0447\\u0435\\u043d\\u043d\\u044b\\u0445.\\n\\n\\u0425\\u0410\\u041c\\u0410\\u0421 \\u043f\\u043e\\u043b\\u0443\\u0447\\u0438\\u043b \\u044d\\u0442\\u043e \\u043f\\u0440\\u0435\\u0434\\u043b\\u043e\\u0436\\u0435\\u043d\\u0438\\u0435 \\u0447\\u0435\\u0440\\u0435\\u0437 \\u043f\\u043e\\u0441\\u0440\\u0435\\u0434\\u043d\\u0438\\u043a\\u043e\\u0432, \\u043f\\u0438\\u0448\\u0435\\u0442 Reuters. \\u0412 \\u043a\\u0430\\u043d\\u0446\\u0435\\u043b\\u044f\\u0440\\u0438\\u0438 \\u043f\\u0440\\u0435\\u043c\\u044c\\u0435\\u0440-\\u043c\\u0438\\u043d\\u0438\\u0441\\u0442\\u0440\\u0430 \\u0418\\u0437\\u0440\\u0430\\u0438\\u043b\\u044f \\u0411\\u0438\\u043d\\u044c\\u044f\\u043c\\u0438\\u043d\\u0430 \\u041d\\u0435\\u0442\\u0430\\u043d\\u0438\\u044f\\u0433\\u0443 \\u0441\\u043e\\u0433\\u043b\\u0430\\u0441\\u0438\\u0435 \\u0442\\u0435\\u0440\\u0440\\u043e\\u0440\\u0438\\u0441\\u0442\\u0438\\u0447\\u0435\\u0441\\u043a\\u043e\\u0439 \\u0433\\u0440\\u0443\\u043f\\u043f\\u0438\\u0440\\u043e\\u0432\\u043a\\u0438 \\u043f\\u043e\\u043a\\u0430 \\u043d\\u0435 \\u043a\\u043e\\u043c\\u043c\\u0435\\u043d\\u0442\\u0438\\u0440\\u043e\\u0432\\u0430\\u043b\\u0438.\\n\\n\\u041a\\u043e\\u0440\\u0440\\u0435\\u0441\\u043f\\u043e\\u043d\\u0434\\u0435\\u043d\\u0442 Axios \\u0411\\u0430\\u0440\\u0430\\u043a \\u0420\\u0430\\u0432\\u0438\\u0434 \\u043f\\u0440\\u0438 \\u044d\\u0442\\u043e\\u043c \\u0441\\u043e\\u043e\\u0431\\u0449\\u0430\\u0435\\u0442, \\u0447\\u0442\\u043e \\u0432 \\u0440\\u0430\\u0437\\u0433\\u043e\\u0432\\u043e\\u0440\\u0435 \\u0441 \\u043d\\u0438\\u043c \\u0423\\u0438\\u0442\\u043a\\u043e\\u0444\\u0444 \\u043e\\u0442\\u0440\\u0438\\u0446\\u0430\\u0435\\u0442 \\u0437\\u0430\\u044f\\u0432\\u043b\\u0435\\u043d\\u0438\\u0435 \\u0425\\u0410\\u041c\\u0410\\u0421 \\u043e \\u0441\\u043e\\u0433\\u043b\\u0430\\u0441\\u0438\\u0438. \\u00ab\\u0422\\u043e, \\u0447\\u0442\\u043e \\u044f \\u0443\\u0432\\u0438\\u0434\\u0435\\u043b \\u043e\\u0442 \\u0425\\u0410\\u041c\\u0410\\u0421, \\u0440\\u0430\\u0437\\u043e\\u0447\\u0430\\u0440\\u043e\\u0432\\u044b\\u0432\\u0430\\u0435\\u0442 \\u0438 \\u0441\\u043e\\u0432\\u0435\\u0440\\u0448\\u0435\\u043d\\u043d\\u043e \\u043d\\u0435\\u043f\\u0440\\u0438\\u0435\\u043c\\u043b\\u0435\\u043c\\u043e\\u00bb, \\u2014 \\u0446\\u0438\\u0442\\u0438\\u0440\\u0443\\u0435\\u0442 \\u0420\\u0430\\u0432\\u0438\\u0434 \\u0423\\u0438\\u0442\\u043a\\u043e\\u0444\\u0444\\u0430.\\n\\nCNN \\u0441\\u043e \\u0441\\u0441\\u044b\\u043b\\u043a\\u043e\\u0439 \\u043d\\u0430 \\u0423\\u0438\\u0442\\u043a\\u043e\\u0444\\u0444\\u0430 \\u0442\\u0430\\u043a\\u0436\\u0435 \\u043f\\u0438\\u0448\\u0435\\u0442, \\u0447\\u0442\\u043e \\u0441\\u043e\\u0433\\u043b\\u0430\\u0448\\u0435\\u043d\\u0438\\u0435 \\u0435\\u0449\\u0435 \\u0440\\u0430\\u0441\\u0441\\u043c\\u0430\\u0442\\u0440\\u0438\\u0432\\u0430\\u0435\\u0442\\u0441\\u044f, \\u0438 \\u0425\\u0410\\u041c\\u0410\\u0421 \\u00ab\\u0434\\u043e\\u043b\\u0436\\u0435\\u043d \\u0435\\u0435 \\u043f\\u0440\\u0438\\u043d\\u044f\\u0442\\u044c\\u00bb, \\u043d\\u043e \\u043f\\u043e\\u043a\\u0430 \\u043e\\u0442\\u0432\\u0435\\u0442\\u0430 \\u043d\\u0435 \\u0431\\u044b\\u043b\\u043e. \\u041f\\u043e \\u0434\\u0430\\u043d\\u043d\\u044b\\u043c CNN, \\u0441\\u0434\\u0435\\u043b\\u043a\\u0430 \\u043f\\u0440\\u0435\\u0434\\u0443\\u0441\\u043c\\u0430\\u0442\\u0440\\u0438\\u0432\\u0430\\u0435\\u0442 \\u043e\\u0441\\u0432\\u043e\\u0431\\u043e\\u0436\\u0434\\u0435\\u043d\\u0438\\u0435 \\u0437\\u0430\\u043b\\u043e\\u0436\\u043d\\u0438\\u043a\\u043e\\u0432, \\u0438\\u0437 \\u043a\\u043e\\u0442\\u043e\\u0440\\u044b\\u0445 \\u043f\\u043e\\u043b\\u043e\\u0432\\u0438\\u043d\\u0430 \\u2014 \\u0436\\u0438\\u0432\\u044b\\u0435, \\u0430 \\u043f\\u043e\\u043b\\u043e\\u0432\\u0438\\u043d\\u0430 \\u2014 \\u043f\\u043e\\u0433\\u0438\\u0431\\u0448\\u0438\\u0435 \\u0432 \\u043e\\u0431\\u043c\\u0435\\u043d \\u043d\\u0430 \\u0432\\u0440\\u0435\\u043c\\u0435\\u043d\\u043d\\u043e\\u0435 \\u043f\\u0440\\u0435\\u043a\\u0440\\u0430\\u0449\\u0435\\u043d\\u0438\\u0435 \\u043e\\u0433\\u043d\\u044f \\u0434\\u043e \\u043d\\u0430\\u0447\\u0430\\u043b\\u0430 \\u043f\\u0435\\u0440\\u0435\\u0433\\u043e\\u0432\\u043e\\u0440\\u043e\\u0432 \\u043e \\u0432\\u0441\\u0435\\u043e\\u0431\\u044a\\u0435\\u043c\\u043b\\u044e\\u0449\\u0435\\u043c \\u0441\\u043e\\u0433\\u043b\\u0430\\u0448\\u0435\\u043d\\u0438\\u0438. \\u0423\\u0438\\u0442\\u043a\\u043e\\u0444\\u0444 \\u043d\\u0435 \\u0443\\u0442\\u043e\\u0447\\u043d\\u0438\\u043b, \\u043a\\u0430\\u043a \\u0434\\u043e\\u043b\\u0433\\u043e \\u043f\\u0440\\u043e\\u0434\\u043b\\u0438\\u0442\\u0441\\u044f \\u0432\\u0440\\u0435\\u043c\\u0435\\u043d\\u043d\\u043e\\u0435 \\u043f\\u0440\\u0435\\u043a\\u0440\\u0430\\u0449\\u0435\\u043d\\u0438\\u0435 \\u043e\\u0433\\u043d\\u044f.\\n\\n\\u041e \\u043f\\u0435\\u0440\\u0435\\u0434\\u0430\\u043d\\u043d\\u043e\\u043c \\u043e\\u0431\\u0435\\u0438\\u043c \\u0441\\u0442\\u043e\\u0440\\u043e\\u043d\\u0430\\u043c \\u043f\\u0440\\u0435\\u0434\\u043b\\u043e\\u0436\\u0435\\u043d\\u0438\\u0438 \\u0423\\u0438\\u0442\\u043a\\u043e\\u0444\\u0444\\u0430 18 \\u043c\\u0430\\u044f \\u043d\\u0430\\u043f\\u0438\\u0441\\u0430\\u043b Axios \\u0441\\u043e \\u0441\\u0441\\u044b\\u043b\\u043a\\u043e\\u0439 \\u043d\\u0430 \\u0438\\u0441\\u0442\\u043e\\u0447\\u043d\\u0438\\u043a\\u0438. \\u041f\\u043e \\u0438\\u0445 \\u0434\\u0430\\u043d\\u043d\\u044b\\u043c, \\u0445\\u043e\\u0442\\u044f \\u0443 \\u0418\\u0437\\u0440\\u0430\\u0438\\u043b\\u044f \\u0438 \\u0425\\u0410\\u041c\\u0410\\u0421 \\u0431\\u044b\\u043b\\u0438 \\u043f\\u0435\\u0440\\u0435\\u0433\\u043e\\u0432\\u043e\\u0440\\u043d\\u044b\\u0435 \\u0433\\u0440\\u0443\\u043f\\u043f\\u044b \\u0432 \\u0414\\u043e\\u0445\\u0435, \\u043e\\u0431\\u0441\\u0443\\u0436\\u0434\\u0435\\u043d\\u0438\\u0435 \\u043f\\u043b\\u0430\\u043d\\u0430 \\u0423\\u0438\\u0442\\u043a\\u043e\\u0444\\u0444\\u0430 \\u0432\\u0435\\u043b\\u043e\\u0441\\u044c \\u00ab\\u043f\\u043e \\u0434\\u0440\\u0443\\u0433\\u0438\\u043c \\u043a\\u0430\\u043d\\u0430\\u043b\\u0430\\u043c\\u00bb. \\u041f\\u043e \\u0441\\u043b\\u043e\\u0432\\u0430\\u043c \\u0441\\u043e\\u0431\\u0435\\u0441\\u0435\\u0434\\u043d\\u0438\\u043a\\u043e\\u0432 Axios, \\u041d\\u0435\\u0442\\u0430\\u043d\\u0438\\u044f\\u0433\\u0443 \\u0434\\u0430\\u043b \\u043f\\u043e\\u043b\\u043e\\u0436\\u0438\\u0442\\u0435\\u043b\\u044c\\u043d\\u044b\\u0439 \\u043e\\u0442\\u0432\\u0435\\u0442, \\u00ab\\u043d\\u043e \\u0441\\u043e \\u043c\\u043d\\u043e\\u0433\\u0438\\u043c\\u0438 \\u0443\\u0441\\u043b\\u043e\\u0432\\u0438\\u044f\\u043c\\u0438 \\u0438 \\u043e\\u0433\\u043e\\u0432\\u043e\\u0440\\u043a\\u0430\\u043c\\u0438\\u00bb.\\n\\n\\u0412\\u043c\\u0435\\u0441\\u0442\\u0435 \\u0441 \\u044d\\u0442\\u0438\\u043c \\u0410\\u0440\\u043c\\u0438\\u044f \\u043e\\u0431\\u043e\\u0440\\u043e\\u043d\\u044b \\u0418\\u0437\\u0440\\u0430\\u0438\\u043b\\u044f \\u0432 \\u0442\\u043e\\u0442 \\u0436\\u0435 \\u0434\\u0435\\u043d\\u044c \\u043e\\u0431\\u044a\\u044f\\u0432\\u0438\\u043b\\u0430 \\u043e \\u043d\\u0430\\u0447\\u0430\\u043b\\u0435 \\u00ab\\u0448\\u0438\\u0440\\u043e\\u043a\\u043e\\u043c\\u0430\\u0441\\u0448\\u0442\\u0430\\u0431\\u043d\\u044b\\u0445 \\u043d\\u0430\\u0437\\u0435\\u043c\\u043d\\u044b\\u0445 \\u0434\\u0435\\u0439\\u0441\\u0442\\u0432\\u0438\\u0439\\u00bb \\u043d\\u0430 \\u0441\\u0435\\u0432\\u0435\\u0440\\u0435 \\u0438 \\u044e\\u0433\\u0435 \\u0441\\u0435\\u043a\\u0442\\u043e\\u0440\\u0430 \\u0413\\u0430\\u0437\\u0430 \\u0432 \\u0440\\u0430\\u043c\\u043a\\u0430\\u0445 \\u043e\\u043f\\u0435\\u0440\\u0430\\u0446\\u0438\\u0438 \\u00ab\\u041a\\u043e\\u043b\\u0435\\u0441\\u043d\\u0438\\u0446\\u044b \\u0413\\u0438\\u0434\\u0435\\u043e\\u043d\\u0430\\u00bb. \\u041f\\u043b\\u0430\\u043d \\u0437\\u043d\\u0430\\u0447\\u0438\\u0442\\u0435\\u043b\\u044c\\u043d\\u043e\\u0433\\u043e \\u0440\\u0430\\u0441\\u0448\\u0438\\u0440\\u0435\\u043d\\u0438\\u044f \\u043d\\u0430\\u0437\\u0435\\u043c\\u043d\\u043e\\u0439 \\u043e\\u043f\\u0435\\u0440\\u0430\\u0446\\u0438\\u0438 \\u043f\\u0440\\u043e\\u0442\\u0438\\u0432 \\u0425\\u0410\\u041c\\u0410\\u0421 \\u0431\\u044b\\u043b \\u043e\\u0434\\u043e\\u0431\\u0440\\u0435\\u043d \\u043a\\u0430\\u0431\\u0438\\u043d\\u0435\\u0442\\u043e\\u043c \\u0431\\u0435\\u0437\\u043e\\u043f\\u0430\\u0441\\u043d\\u043e\\u0441\\u0442\\u0438 \\u0418\\u0437\\u0440\\u0430\\u0438\\u043b\\u044f 4 \\u043c\\u0430\\u044f.\\n\\n\\u0427\\u0438\\u0442\\u0430\\u0439\\u0442\\u0435 \\u0442\\u0430\\u043a\\u0436\\u0435\\n\\n\\u0412\\u043b\\u0430\\u0441\\u0442\\u0438 \\u0418\\u0437\\u0440\\u0430\\u0438\\u043b\\u044f \\u043e\\u0434\\u043e\\u0431\\u0440\\u0438\\u043b\\u0438 \\u043f\\u043b\\u0430\\u043d \\u0440\\u0430\\u0441\\u0448\\u0438\\u0440\\u0435\\u043d\\u0438\\u044f \\u043d\\u0430\\u0437\\u0435\\u043c\\u043d\\u043e\\u0439 \\u043e\\u043f\\u0435\\u0440\\u0430\\u0446\\u0438\\u0438 \\u043f\\u0440\\u043e\\u0442\\u0438\\u0432 \\u0425\\u0410\\u041c\\u0410\\u0421. \\u0426\\u0435\\u043b\\u044c \\u2014 \\u00ab\\u0437\\u0430\\u0432\\u043e\\u0435\\u0432\\u0430\\u043d\\u0438\\u0435 \\u0413\\u0430\\u0437\\u044b \\u0438 \\u0443\\u0434\\u0435\\u0440\\u0436\\u0430\\u043d\\u0438\\u0435 \\u0442\\u0435\\u0440\\u0440\\u0438\\u0442\\u043e\\u0440\\u0438\\u0439\\u00bb \\u0426\\u0410\\u0425\\u0410\\u041b \\u043f\\u0440\\u0435\\u0434\\u0443\\u043f\\u0440\\u0435\\u0436\\u0434\\u0430\\u0435\\u0442, \\u0447\\u0442\\u043e \\u0442\\u0430\\u043a\\u043e\\u0435 \\u0440\\u0435\\u0448\\u0435\\u043d\\u0438\\u0435 \\u043c\\u043e\\u0436\\u0435\\u0442 \\u043f\\u043e\\u0441\\u0442\\u0430\\u0432\\u0438\\u0442\\u044c \\u043f\\u043e\\u0434 \\u0443\\u0433\\u0440\\u043e\\u0437\\u0443 \\u0436\\u0438\\u0437\\u043d\\u0438 \\u0437\\u0430\\u043b\\u043e\\u0436\\u043d\\u0438\\u043a\\u043e\\u0432\\n\\n\\u0427\\u0438\\u0442\\u0430\\u0439\\u0442\\u0435 \\u0442\\u0430\\u043a\\u0436\\u0435\\n\\n\\u0412\\u043b\\u0430\\u0441\\u0442\\u0438 \\u0418\\u0437\\u0440\\u0430\\u0438\\u043b\\u044f \\u043e\\u0434\\u043e\\u0431\\u0440\\u0438\\u043b\\u0438 \\u043f\\u043b\\u0430\\u043d \\u0440\\u0430\\u0441\\u0448\\u0438\\u0440\\u0435\\u043d\\u0438\\u044f \\u043d\\u0430\\u0437\\u0435\\u043c\\u043d\\u043e\\u0439 \\u043e\\u043f\\u0435\\u0440\\u0430\\u0446\\u0438\\u0438 \\u043f\\u0440\\u043e\\u0442\\u0438\\u0432 \\u0425\\u0410\\u041c\\u0410\\u0421. \\u0426\\u0435\\u043b\\u044c \\u2014 \\u00ab\\u0437\\u0430\\u0432\\u043e\\u0435\\u0432\\u0430\\u043d\\u0438\\u0435 \\u0413\\u0430\\u0437\\u044b \\u0438 \\u0443\\u0434\\u0435\\u0440\\u0436\\u0430\\u043d\\u0438\\u0435 \\u0442\\u0435\\u0440\\u0440\\u0438\\u0442\\u043e\\u0440\\u0438\\u0439\\u00bb \\u0426\\u0410\\u0425\\u0410\\u041b \\u043f\\u0440\\u0435\\u0434\\u0443\\u043f\\u0440\\u0435\\u0436\\u0434\\u0430\\u0435\\u0442, \\u0447\\u0442\\u043e \\u0442\\u0430\\u043a\\u043e\\u0435 \\u0440\\u0435\\u0448\\u0435\\u043d\\u0438\\u0435 \\u043c\\u043e\\u0436\\u0435\\u0442 \\u043f\\u043e\\u0441\\u0442\\u0430\\u0432\\u0438\\u0442\\u044c \\u043f\\u043e\\u0434 \\u0443\\u0433\\u0440\\u043e\\u0437\\u0443 \\u0436\\u0438\\u0437\\u043d\\u0438 \\u0437\\u0430\\u043b\\u043e\\u0436\\u043d\\u0438\\u043a\\u043e\\u0432\",\n          \"\\u0421\\u0442\\u0443\\u0434\\u0435\\u043d\\u0442\\u043e\\u0432 \\u0431\\u0443\\u0434\\u0443\\u0442 \\u043d\\u0430\\u0431\\u0438\\u0440\\u0430\\u0442\\u044c \\u043d\\u0430 \\u043f\\u0440\\u043e\\u0433\\u0440\\u0430\\u043c\\u043c\\u0443 \\\"\\u0418\\u043d\\u0444\\u043e\\u0440\\u043c\\u0430\\u0446\\u0438\\u043e\\u043d\\u043d\\u0430\\u044f \\u0431\\u0435\\u0437\\u043e\\u043f\\u0430\\u0441\\u043d\\u043e\\u0441\\u0442\\u044c\\\"\\n\\n\\u041c\\u0418\\u041d\\u0415\\u0420\\u0410\\u041b\\u042c\\u041d\\u042b\\u0415 \\u0412\\u041e\\u0414\\u042b /\\u0421\\u0442\\u0430\\u0432\\u0440\\u043e\\u043f\\u043e\\u043b\\u044c\\u0441\\u043a\\u0438\\u0439 \\u043a\\u0440\\u0430\\u0439/, 26 \\u043c\\u0430\\u044f. /\\u0422\\u0410\\u0421\\u0421/. \\u041d\\u043e\\u0432\\u0430\\u044f \\u043c\\u0430\\u0433\\u0438\\u0441\\u0442\\u0435\\u0440\\u0441\\u043a\\u0430\\u044f \\u043f\\u0440\\u043e\\u0433\\u0440\\u0430\\u043c\\u043c\\u0430 \\\"\\u0418\\u043d\\u0444\\u043e\\u0440\\u043c\\u0430\\u0446\\u0438\\u043e\\u043d\\u043d\\u0430\\u044f \\u0431\\u0435\\u0437\\u043e\\u043f\\u0430\\u0441\\u043d\\u043e\\u0441\\u0442\\u044c\\\" \\u043d\\u0430\\u0447\\u043d\\u0435\\u0442 \\u0440\\u0430\\u0431\\u043e\\u0442\\u0443 \\u0432 \\u0414\\u0430\\u0433\\u0435\\u0441\\u0442\\u0430\\u043d\\u0441\\u043a\\u043e\\u043c \\u0433\\u043e\\u0441\\u0443\\u0434\\u0430\\u0440\\u0441\\u0442\\u0432\\u0435\\u043d\\u043d\\u043e\\u043c \\u0442\\u0435\\u0445\\u043d\\u0438\\u0447\\u0435\\u0441\\u043a\\u043e\\u043c \\u0443\\u043d\\u0438\\u0432\\u0435\\u0440\\u0441\\u0438\\u0442\\u0435\\u0442\\u0435 (\\u0414\\u0413\\u0422\\u0423) \\u0432 \\u0441\\u0435\\u043d\\u0442\\u044f\\u0431\\u0440\\u0435 2025 \\u0433\\u043e\\u0434\\u0430. \\u0412 \\u0440\\u0430\\u043c\\u043a\\u0430\\u0445 \\u043d\\u0430\\u043f\\u0440\\u0430\\u0432\\u043b\\u0435\\u043d\\u0438\\u044f \\u043f\\u0440\\u0435\\u0434\\u0443\\u0441\\u043c\\u043e\\u0442\\u0440\\u0435\\u043d\\u043e 25 \\u0431\\u044e\\u0434\\u0436\\u0435\\u0442\\u043d\\u044b\\u0445 \\u043c\\u0435\\u0441\\u0442, \\u0441\\u043e\\u043e\\u0431\\u0449\\u0438\\u043b \\u0432 \\u0438\\u043d\\u0442\\u0435\\u0440\\u0432\\u044c\\u044e \\u0422\\u0410\\u0421\\u0421 \\u043d\\u0430 \\u043f\\u043e\\u043b\\u044f\\u0445 \\u041a\\u0430\\u0432\\u043a\\u0430\\u0437\\u0441\\u043a\\u043e\\u0433\\u043e \\u0438\\u043d\\u0432\\u0435\\u0441\\u0442\\u0438\\u0446\\u0438\\u043e\\u043d\\u043d\\u043e\\u0433\\u043e \\u0444\\u043e\\u0440\\u0443\\u043c\\u0430 (\\u041a\\u0418\\u0424) \\u0440\\u0435\\u043a\\u0442\\u043e\\u0440 \\u0414\\u0413\\u0422\\u0423 \\u041d\\u0430\\u0437\\u0438\\u043c \\u0411\\u0430\\u043b\\u0430\\u043c\\u0438\\u0440\\u0437\\u043e\\u0435\\u0432.\\n\\n\\\"\\u041c\\u044b, \\u043f\\u0440\\u043e\\u0430\\u043d\\u0430\\u043b\\u0438\\u0437\\u0438\\u0440\\u043e\\u0432\\u0430\\u0432 \\u0440\\u044b\\u043d\\u043e\\u043a, \\u043f\\u0440\\u0438\\u0448\\u043b\\u0438 \\u043a \\u0442\\u0430\\u043a\\u043e\\u043c\\u0443 \\u043c\\u043d\\u0435\\u043d\\u0438\\u044e, \\u0447\\u0442\\u043e \\u0432 \\u0420\\u0435\\u0441\\u043f\\u0443\\u0431\\u043b\\u0438\\u043a\\u0435 \\u0414\\u0430\\u0433\\u0435\\u0441\\u0442\\u0430\\u043d \\u043c\\u043d\\u043e\\u0433\\u0438\\u0435 \\u0432\\u0443\\u0437\\u044b \\u0432\\u044b\\u043f\\u0443\\u0441\\u043a\\u0430\\u044e\\u0442 \\u0441\\u043f\\u0435\\u0446\\u0438\\u0430\\u043b\\u0438\\u0441\\u0442\\u043e\\u0432 \\u0438 \\u0431\\u0430\\u043a\\u0430\\u043b\\u0430\\u0432\\u0440\\u043e\\u0432 \\u043f\\u043e \\u043d\\u0430\\u043f\\u0440\\u0430\\u0432\\u043b\\u0435\\u043d\\u0438\\u044e \\u0438\\u043d\\u0444\\u043e\\u0440\\u043c\\u0430\\u0446\\u0438\\u043e\\u043d\\u043d\\u043e\\u0439 \\u0431\\u0435\\u0437\\u043e\\u043f\\u0430\\u0441\\u043d\\u043e\\u0441\\u0442\\u0438. \\u041c\\u044b \\u0431\\u0443\\u0434\\u0435\\u043c \\u0433\\u043e\\u0442\\u043e\\u0432\\u0438\\u0442\\u044c \\u0441\\u043f\\u0435\\u0446\\u0438\\u0430\\u043b\\u0438\\u0441\\u0442\\u043e\\u0432, \\u044d\\u0442\\u043e \\u0431\\u0443\\u0434\\u0435\\u0442 \\u043f\\u043e\\u0440\\u044f\\u0434\\u043a\\u0430 25 \\u0431\\u044e\\u0434\\u0436\\u0435\\u0442\\u043d\\u044b\\u0445 \\u043c\\u0435\\u0441\\u0442, \\u043f\\u043e \\u043d\\u0430\\u043f\\u0440\\u0430\\u0432\\u043b\\u0435\\u043d\\u0438\\u044e, \\u043c\\u0430\\u0433\\u0438\\u0441\\u0442\\u0435\\u0440\\u0441\\u043a\\u043e\\u0439 \\u043f\\u0440\\u043e\\u0433\\u0440\\u0430\\u043c\\u043c\\u044b \\\"\\u0418\\u043d\\u0444\\u043e\\u0440\\u043c\\u0430\\u0446\\u0438\\u043e\\u043d\\u043d\\u0430\\u044f \\u0431\\u0435\\u0437\\u043e\\u043f\\u0430\\u0441\\u043d\\u043e\\u0441\\u0442\\u044c\\\". <\\u2026> \\u0421\\u043f\\u0440\\u043e\\u0441 \\u043d\\u0430 \\u044d\\u0442\\u0443 \\u0441\\u043f\\u0435\\u0446\\u0438\\u0430\\u043b\\u044c\\u043d\\u043e\\u0441\\u0442\\u044c \\u0438\\u0437 \\u0433\\u043e\\u0434\\u0430 \\u0432 \\u0433\\u043e\\u0434 \\u0432\\u043e\\u0437\\u0440\\u0430\\u0441\\u0442\\u0430\\u0435\\u0442, \\u043f\\u043e\\u044d\\u0442\\u043e\\u043c\\u0443, \\u044f \\u0434\\u0443\\u043c\\u0430\\u044e, \\u043f\\u0440\\u043e\\u0431\\u043b\\u0435\\u043c \\u043d\\u0435 \\u0431\\u0443\\u0434\\u0435\\u0442 \\u0443 \\u043d\\u0430\\u0441 \\u0441 \\u043d\\u0430\\u0431\\u043e\\u0440\\u043e\\u043c\\\", - \\u0441\\u043a\\u0430\\u0437\\u0430\\u043b \\u0411\\u0430\\u043b\\u0430\\u043c\\u0438\\u0440\\u0437\\u043e\\u0435\\u0432.\\n\\n\\u041f\\u043e \\u0441\\u043b\\u043e\\u0432\\u0430\\u043c \\u0441\\u043f\\u0438\\u043a\\u0435\\u0440\\u0430, \\u0432 \\u0432\\u0443\\u0437 \\u043f\\u043e\\u0441\\u0442\\u0443\\u043f\\u0430\\u0435\\u0442 \\u043c\\u043d\\u043e\\u0433\\u043e \\u0437\\u0430\\u044f\\u0432\\u043e\\u043a \\u043e\\u0442 \\u043f\\u0440\\u043e\\u0444\\u0438\\u043b\\u044c\\u043d\\u044b\\u0445 \\u043c\\u0438\\u043d\\u0438\\u0441\\u0442\\u0435\\u0440\\u0441\\u0442\\u0432, \\u043a\\u043e\\u0442\\u043e\\u0440\\u044b\\u0435 \\u0433\\u043e\\u0442\\u043e\\u0432\\u044b \\u043d\\u0430\\u043f\\u0440\\u0430\\u0432\\u043b\\u044f\\u0442\\u044c \\u0441\\u0432\\u043e\\u0438\\u0445 \\u0441\\u043f\\u0435\\u0446\\u0438\\u0430\\u043b\\u0438\\u0441\\u0442\\u043e\\u0432 \\u0434\\u043b\\u044f \\u043f\\u0440\\u043e\\u0445\\u043e\\u0436\\u0434\\u0435\\u043d\\u0438\\u044f \\u043e\\u0431\\u0443\\u0447\\u0435\\u043d\\u0438\\u044f \\u043f\\u043e \\u0434\\u0430\\u043d\\u043d\\u043e\\u0439 \\u043f\\u0440\\u043e\\u0433\\u0440\\u0430\\u043c\\u043c\\u0435. \\\"\\u041e\\u0447\\u0435\\u043d\\u044c \\u043c\\u043d\\u043e\\u0433\\u043e \\u0437\\u0430\\u044f\\u0432\\u043e\\u043a \\u0435\\u0441\\u0442\\u044c \\u043e\\u0442 \\u043f\\u0440\\u043e\\u0444\\u0438\\u043b\\u044c\\u043d\\u044b\\u0445 \\u043c\\u0438\\u043d\\u0438\\u0441\\u0442\\u0435\\u0440\\u0441\\u0442\\u0432, <\\u2026> \\u043a\\u043e\\u0442\\u043e\\u0440\\u044b\\u0435 \\u0445\\u043e\\u0442\\u044f\\u0442 \\u043d\\u0430\\u043f\\u0440\\u0430\\u0432\\u043b\\u044f\\u0442\\u044c \\u0441\\u0432\\u043e\\u0438\\u0445 \\u0441\\u043f\\u0435\\u0446\\u0438\\u0430\\u043b\\u0438\\u0441\\u0442\\u043e\\u0432 \\u0434\\u0430\\u0436\\u0435 \\u043f\\u043e \\u0446\\u0435\\u043b\\u0435\\u0432\\u043e\\u043c\\u0443 \\u0434\\u043e\\u0433\\u043e\\u0432\\u043e\\u0440\\u0443, \\u0447\\u0442\\u043e\\u0431\\u044b \\u043e\\u043d\\u0438 \\u043e\\u0431\\u0443\\u0447\\u0430\\u043b\\u0438\\u0441\\u044c\\\", - \\u0434\\u043e\\u0431\\u0430\\u0432\\u0438\\u043b \\u0411\\u0430\\u043b\\u0430\\u043c\\u0438\\u0440\\u0437\\u043e\\u0435\\u0432.\"\n        ],\n        \"semantic_type\": \"\",\n        \"description\": \"\"\n      }\n    },\n    {\n      \"column\": \"sentiment\",\n      \"properties\": {\n        \"dtype\": \"category\",\n        \"num_unique_values\": 3,\n        \"samples\": [\n          \"negative\",\n          \"neutral\",\n          \"positive\"\n        ],\n        \"semantic_type\": \"\",\n        \"description\": \"\"\n      }\n    },\n    {\n      \"column\": \"score\",\n      \"properties\": {\n        \"dtype\": \"number\",\n        \"std\": 0.14223574232389802,\n        \"min\": 0.517887532711029,\n        \"max\": 0.9979185461997986,\n        \"num_unique_values\": 60,\n        \"samples\": [\n          0.8498353958129883,\n          0.9860899448394775,\n          0.9966212511062622\n        ],\n        \"semantic_type\": \"\",\n        \"description\": \"\"\n      }\n    },\n    {\n      \"column\": \"embedding\",\n      \"properties\": {\n        \"dtype\": \"object\",\n        \"semantic_type\": \"\",\n        \"description\": \"\"\n      }\n    }\n  ]\n}"
            }
          },
          "metadata": {},
          "execution_count": 360
        }
      ]
    },
    {
      "cell_type": "code",
      "source": [
        "embeddings = np.array(df['embedding'].tolist())\n",
        "kmeans = KMeans(n_clusters=3, random_state=0).fit(embeddings)\n",
        "df['topic_cluster'] = kmeans.labels_"
      ],
      "metadata": {
        "id": "1j6q7lmbgPRb"
      },
      "execution_count": 361,
      "outputs": []
    },
    {
      "cell_type": "code",
      "source": [
        "plt.figure(figsize=(8, 5))\n",
        "sns.countplot(x='sentiment', data=df)\n",
        "plt.title(\"Распределение тональностей новостей\")\n",
        "plt.show()"
      ],
      "metadata": {
        "colab": {
          "base_uri": "https://localhost:8080/",
          "height": 487
        },
        "id": "aKUhKJX6gSqS",
        "outputId": "e49c6a16-be25-461a-f41a-e7025a453358"
      },
      "execution_count": 362,
      "outputs": [
        {
          "output_type": "display_data",
          "data": {
            "text/plain": [
              "<Figure size 800x500 with 1 Axes>"
            ],
            "image/png": "[encoded data removed]"
          },
          "metadata": {}
        }
      ]
    },
    {
      "cell_type": "code",
      "source": [
        "X = embeddings[:-1]\n",
        "y = df['sentiment'][:-1]\n",
        "X_test = [embeddings[-1]]\n",
        "y_test = [df['sentiment'].iloc[-1]]"
      ],
      "metadata": {
        "id": "SwtGOCt4iNJv"
      },
      "execution_count": 363,
      "outputs": []
    },
    {
      "cell_type": "code",
      "source": [
        "\n",
        "clf = RandomForestClassifier()\n",
        "clf.fit(X, y)\n",
        "pred = clf.predict(X_test)"
      ],
      "metadata": {
        "id": "LbERSeUaiRQR"
      },
      "execution_count": 364,
      "outputs": []
    },
    {
      "cell_type": "code",
      "source": [],
      "metadata": {
        "id": "8WesKYxEjKpd"
      },
      "execution_count": 364,
      "outputs": []
    },
    {
      "cell_type": "code",
      "source": [
        "pred[:10], y_test[:10]"
      ],
      "metadata": {
        "colab": {
          "base_uri": "https://localhost:8080/"
        },
        "id": "Ot8CmXhyiTSh",
        "outputId": "dc823b68-2b57-4ef4-8280-8201826ab327"
      },
      "execution_count": 365,
      "outputs": [
        {
          "output_type": "execute_result",
          "data": {
            "text/plain": [
              "(array(['neutral'], dtype=object), ['neutral'])"
            ]
          },
          "metadata": {},
          "execution_count": 365
        }
      ]
    },
    {
      "cell_type": "code",
      "source": [
        "from sklearn.preprocessing import LabelEncoder\n",
        "label_encoder = LabelEncoder()\n",
        "df['sentiment_encoded'] = label_encoder.fit_transform(df['sentiment'])"
      ],
      "metadata": {
        "id": "lwRpA5rpjMQv"
      },
      "execution_count": 366,
      "outputs": []
    },
    {
      "cell_type": "code",
      "source": [
        "df = df.reset_index(drop=True)"
      ],
      "metadata": {
        "id": "gNrBpg18jaGi"
      },
      "execution_count": 367,
      "outputs": []
    },
    {
      "cell_type": "code",
      "source": [
        "ln = 20\n",
        "\n",
        "X = []\n",
        "y = []\n",
        "\n",
        "embeddings = np.vstack(df['embedding'].values)\n",
        "labels = df['sentiment_encoded'].values"
      ],
      "metadata": {
        "id": "fvmsMnhxjfMs"
      },
      "execution_count": 368,
      "outputs": []
    },
    {
      "cell_type": "code",
      "source": [
        "for i in range(len(df) - ln):\n",
        "    X.append(embeddings[i:i+ln])\n",
        "    y.append(labels[i+ln])\n",
        "\n",
        "X = np.array(X)\n",
        "y = np.array(y)"
      ],
      "metadata": {
        "id": "AgOxUraDjj2v"
      },
      "execution_count": 369,
      "outputs": []
    },
    {
      "cell_type": "code",
      "source": [
        "split = int(len(X)*0.8)\n",
        "X_train, X_test = X[:split], X[split:]\n",
        "y_train, y_test = y[:split], y[split:]"
      ],
      "metadata": {
        "id": "fuJaJWPXjsbD"
      },
      "execution_count": 370,
      "outputs": []
    },
    {
      "cell_type": "code",
      "source": [
        "model = Sequential([\n",
        "    Masking(mask_value=0., input_shape=(SEQ_LEN, embeddings.shape[1])),\n",
        "    LSTM(64, return_sequences=False),\n",
        "    Dropout(0.3),\n",
        "    Dense(32, activation='relu'),\n",
        "    Dense(len(label_encoder.classes_), activation='softmax')\n",
        "])"
      ],
      "metadata": {
        "colab": {
          "base_uri": "https://localhost:8080/"
        },
        "id": "_DbMjEAvjyfO",
        "outputId": "2eb0ecc9-4c4b-4ea5-d5fc-77f731295177"
      },
      "execution_count": 371,
      "outputs": [
        {
          "output_type": "stream",
          "name": "stderr",
          "text": [
            "/usr/local/lib/python3.11/dist-packages/keras/src/layers/core/masking.py:47: UserWarning: Do not pass an `input_shape`/`input_dim` argument to a layer. When using Sequential models, prefer using an `Input(shape)` object as the first layer in the model instead.\n",
            "  super().__init__(**kwargs)\n"
          ]
        }
      ]
    },
    {
      "cell_type": "code",
      "source": [
        "model.compile(loss='sparse_categorical_crossentropy', optimizer='adam', metrics=['accuracy'])\n"
      ],
      "metadata": {
        "id": "Gs8JuAxEkTln"
      },
      "execution_count": 372,
      "outputs": []
    },
    {
      "cell_type": "code",
      "source": [
        "history = model.fit(X_train, y_train, epochs=10, batch_size=16, validation_split=0.1)\n"
      ],
      "metadata": {
        "colab": {
          "base_uri": "https://localhost:8080/"
        },
        "id": "9_iRoc3zkUNN",
        "outputId": "d48543f9-4f7e-4c07-d773-7cf204b85891"
      },
      "execution_count": 373,
      "outputs": [
        {
          "output_type": "stream",
          "name": "stdout",
          "text": [
            "Epoch 1/10\n",
            "\u001b[1m2/2\u001b[0m \u001b[32m━━━━━━━━━━━━━━━━━━━━\u001b[0m\u001b[37m\u001b[0m \u001b[1m4s\u001b[0m 805ms/step - accuracy: 0.4554 - loss: 1.0779 - val_accuracy: 0.7500 - val_loss: 1.0101\n",
            "Epoch 2/10\n",
            "\u001b[1m2/2\u001b[0m \u001b[32m━━━━━━━━━━━━━━━━━━━━\u001b[0m\u001b[37m\u001b[0m \u001b[1m1s\u001b[0m 160ms/step - accuracy: 0.6815 - loss: 0.9686 - val_accuracy: 0.7500 - val_loss: 0.8863\n",
            "Epoch 3/10\n",
            "\u001b[1m2/2\u001b[0m \u001b[32m━━━━━━━━━━━━━━━━━━━━\u001b[0m\u001b[37m\u001b[0m \u001b[1m0s\u001b[0m 147ms/step - accuracy: 0.6369 - loss: 0.8918 - val_accuracy: 0.7500 - val_loss: 0.7624\n",
            "Epoch 4/10\n",
            "\u001b[1m2/2\u001b[0m \u001b[32m━━━━━━━━━━━━━━━━━━━━\u001b[0m\u001b[37m\u001b[0m \u001b[1m0s\u001b[0m 93ms/step - accuracy: 0.6161 - loss: 0.8247 - val_accuracy: 0.7500 - val_loss: 0.6855\n",
            "Epoch 5/10\n",
            "\u001b[1m2/2\u001b[0m \u001b[32m━━━━━━━━━━━━━━━━━━━━\u001b[0m\u001b[37m\u001b[0m \u001b[1m0s\u001b[0m 95ms/step - accuracy: 0.6369 - loss: 0.7569 - val_accuracy: 0.7500 - val_loss: 0.6573\n",
            "Epoch 6/10\n",
            "\u001b[1m2/2\u001b[0m \u001b[32m━━━━━━━━━━━━━━━━━━━━\u001b[0m\u001b[37m\u001b[0m \u001b[1m0s\u001b[0m 92ms/step - accuracy: 0.6577 - loss: 0.8294 - val_accuracy: 0.7500 - val_loss: 0.6573\n",
            "Epoch 7/10\n",
            "\u001b[1m2/2\u001b[0m \u001b[32m━━━━━━━━━━━━━━━━━━━━\u001b[0m\u001b[37m\u001b[0m \u001b[1m0s\u001b[0m 134ms/step - accuracy: 0.6577 - loss: 0.6849 - val_accuracy: 0.7500 - val_loss: 0.6642\n",
            "Epoch 8/10\n",
            "\u001b[1m2/2\u001b[0m \u001b[32m━━━━━━━━━━━━━━━━━━━━\u001b[0m\u001b[37m\u001b[0m \u001b[1m0s\u001b[0m 93ms/step - accuracy: 0.7500 - loss: 0.6672 - val_accuracy: 0.7500 - val_loss: 0.6764\n",
            "Epoch 9/10\n",
            "\u001b[1m2/2\u001b[0m \u001b[32m━━━━━━━━━━━━━━━━━━━━\u001b[0m\u001b[37m\u001b[0m \u001b[1m0s\u001b[0m 92ms/step - accuracy: 0.7500 - loss: 0.7460 - val_accuracy: 0.7500 - val_loss: 0.6939\n",
            "Epoch 10/10\n",
            "\u001b[1m2/2\u001b[0m \u001b[32m━━━━━━━━━━━━━━━━━━━━\u001b[0m\u001b[37m\u001b[0m \u001b[1m0s\u001b[0m 92ms/step - accuracy: 0.7262 - loss: 0.6126 - val_accuracy: 0.7500 - val_loss: 0.7023\n"
          ]
        }
      ]
    },
    {
      "cell_type": "code",
      "source": [
        "loss, acc = model.evaluate(X_test, y_test)\n",
        "print(f\"Test accuracy: {acc:.2f}\")"
      ],
      "metadata": {
        "colab": {
          "base_uri": "https://localhost:8080/"
        },
        "id": "NpyWYI09kWUi",
        "outputId": "3b47ceb4-2a91-49a0-8db9-95640a1baa9c"
      },
      "execution_count": 374,
      "outputs": [
        {
          "output_type": "stream",
          "name": "stdout",
          "text": [
            "\u001b[1m1/1\u001b[0m \u001b[32m━━━━━━━━━━━━━━━━━━━━\u001b[0m\u001b[37m\u001b[0m \u001b[1m0s\u001b[0m 53ms/step - accuracy: 0.6250 - loss: 0.9316\n",
            "Test accuracy: 0.62\n"
          ]
        }
      ]
    },
    {
      "cell_type": "code",
      "source": [
        "import random\n",
        "idx = random.randint(0, len(X_test)-1)\n",
        "pred = model.predict(X_test[idx:idx+1])\n",
        "pred_label = label_encoder.inverse_transform([np.argmax(pred)])"
      ],
      "metadata": {
        "colab": {
          "base_uri": "https://localhost:8080/"
        },
        "id": "1nDCG6GokaGu",
        "outputId": "36c2937b-21e6-49a1-9849-e528614470c4"
      },
      "execution_count": 375,
      "outputs": [
        {
          "output_type": "stream",
          "name": "stdout",
          "text": [
            "\u001b[1m1/1\u001b[0m \u001b[32m━━━━━━━━━━━━━━━━━━━━\u001b[0m\u001b[37m\u001b[0m \u001b[1m0s\u001b[0m 264ms/step\n"
          ]
        }
      ]
    },
    {
      "cell_type": "code",
      "source": [
        "print(\"Ист\", label_encoder.inverse_transform([y_test[idx]])[0])\n",
        "print(\"Пред\", pred_label[0])"
      ],
      "metadata": {
        "colab": {
          "base_uri": "https://localhost:8080/"
        },
        "id": "ddwmHhxSkela",
        "outputId": "6d1d3af3-0911-4b9b-884a-c794c640ad85"
      },
      "execution_count": 376,
      "outputs": [
        {
          "output_type": "stream",
          "name": "stdout",
          "text": [
            "Ист positive\n",
            "Пред neutral\n"
          ]
        }
      ]
    },
    {
      "cell_type": "code",
      "source": [
        "plt.plot(history.history['accuracy'], label='train acc')\n",
        "plt.plot(history.history['val_accuracy'], label='val acc')\n",
        "plt.legend()\n",
        "plt.show()"
      ],
      "metadata": {
        "colab": {
          "base_uri": "https://localhost:8080/",
          "height": 430
        },
        "id": "nTetzCvCkjfU",
        "outputId": "f18d5859-f8a2-443f-d57c-7d5013e800d0"
      },
      "execution_count": 377,
      "outputs": [
        {
          "output_type": "display_data",
          "data": {
            "text/plain": [
              "<Figure size 640x480 with 1 Axes>"
            ],
            "image/png": "[encoded data removed]"
          },
          "metadata": {}
        }
      ]
    },
    {
      "cell_type": "code",
      "source": [
        "from sklearn.cluster import KMeans\n",
        "from sklearn.preprocessing import OneHotEncoder"
      ],
      "metadata": {
        "id": "bblN8e4ul2z0"
      },
      "execution_count": 378,
      "outputs": []
    },
    {
      "cell_type": "code",
      "source": [
        "df['sentiment_binary'] = df['sentiment'].apply(lambda x: 0 if x == 'neutral' else 1)\n",
        "\n",
        "num_clusters = 6\n",
        "embeddings = np.vstack(df['embedding'].values)\n",
        "kmeans = KMeans(n_clusters=num_clusters, random_state=42)\n",
        "df['topic_cluster'] = kmeans.fit_predict(embeddings)\n",
        "\n",
        "encoder = OneHotEncoder(sparse_output=False)\n",
        "topic_ohe = encoder.fit_transform(df[['topic_cluster']])\n",
        "\n",
        "for i in range(num_clusters):\n",
        "    df[f'topic_{i}'] = topic_ohe[:, i]"
      ],
      "metadata": {
        "id": "srFZfabzlw1G"
      },
      "execution_count": 379,
      "outputs": []
    },
    {
      "cell_type": "code",
      "source": [
        "ln= 4\n",
        "\n",
        "X_emb = []\n",
        "X_topics = []\n",
        "X_sentiments = []\n",
        "y = []\n",
        "\n",
        "for i in range(len(df) - SEQ_LEN):\n",
        "    X_emb.append(embeddings[i:i+SEQ_LEN])\n",
        "    X_topics.append(topic_ohe[i:i+SEQ_LEN])\n",
        "    X_sentiments.append(df['sentiment_binary'].values[i:i+SEQ_LEN])\n",
        "    y.append(df['sentiment_binary'].values[i+SEQ_LEN])\n",
        "\n",
        "X_emb = np.array(X_emb)\n",
        "X_topics = np.array(X_topics)\n",
        "X_sentiments = np.array(X_sentiments)\n",
        "y = np.array(y)\n"
      ],
      "metadata": {
        "id": "DQEl1XekmIoE"
      },
      "execution_count": 380,
      "outputs": []
    },
    {
      "cell_type": "code",
      "source": [
        "X = np.concatenate([X_emb, X_topics, X_sentiments[..., None]], axis=2)"
      ],
      "metadata": {
        "id": "0hnzPxXmmTyq"
      },
      "execution_count": 381,
      "outputs": []
    },
    {
      "cell_type": "code",
      "source": [
        "split = int(len(X)*0.8)\n",
        "X_train, X_test = X[:split], X[split:]\n",
        "y_train, y_test = y[:split], y[split:]"
      ],
      "metadata": {
        "id": "LuqJysGTmW15"
      },
      "execution_count": 382,
      "outputs": []
    },
    {
      "cell_type": "code",
      "source": [
        "model1 = Sequential([\n",
        "    Masking(mask_value=0., input_shape=(SEQ_LEN, X.shape[2])),\n",
        "    LSTM(64, return_sequences=False),\n",
        "    Dropout(0.3),\n",
        "    Dense(32, activation='relu'),\n",
        "    Dense(1, activation='sigmoid')\n",
        "])"
      ],
      "metadata": {
        "colab": {
          "base_uri": "https://localhost:8080/"
        },
        "id": "IZs2Z9DUmZtd",
        "outputId": "a60eea21-b3ea-4260-bc4c-a41d6f3c7833"
      },
      "execution_count": 383,
      "outputs": [
        {
          "output_type": "stream",
          "name": "stderr",
          "text": [
            "/usr/local/lib/python3.11/dist-packages/keras/src/layers/core/masking.py:47: UserWarning: Do not pass an `input_shape`/`input_dim` argument to a layer. When using Sequential models, prefer using an `Input(shape)` object as the first layer in the model instead.\n",
            "  super().__init__(**kwargs)\n"
          ]
        }
      ]
    },
    {
      "cell_type": "code",
      "source": [
        "model1.compile(loss='binary_crossentropy', optimizer='adam', metrics=['AUC', 'accuracy'])"
      ],
      "metadata": {
        "id": "YmQKTa1jme2B"
      },
      "execution_count": 384,
      "outputs": []
    },
    {
      "cell_type": "code",
      "source": [
        "history = model1.fit(X_train, y_train, epochs=20, batch_size=16, validation_split=0.1)"
      ],
      "metadata": {
        "colab": {
          "base_uri": "https://localhost:8080/"
        },
        "id": "5_f4gEPImisV",
        "outputId": "f6a8a86c-0542-4935-fd1a-386fe38a771a"
      },
      "execution_count": 385,
      "outputs": [
        {
          "output_type": "stream",
          "name": "stdout",
          "text": [
            "Epoch 1/20\n",
            "\u001b[1m3/3\u001b[0m \u001b[32m━━━━━━━━━━━━━━━━━━━━\u001b[0m\u001b[37m\u001b[0m \u001b[1m5s\u001b[0m 394ms/step - AUC: 0.4913 - accuracy: 0.5583 - loss: 0.6896 - val_AUC: 0.0000e+00 - val_accuracy: 1.0000 - val_loss: 0.5692\n",
            "Epoch 2/20\n",
            "\u001b[1m3/3\u001b[0m \u001b[32m━━━━━━━━━━━━━━━━━━━━\u001b[0m\u001b[37m\u001b[0m \u001b[1m0s\u001b[0m 50ms/step - AUC: 0.7511 - accuracy: 0.5917 - loss: 0.6602 - val_AUC: 0.0000e+00 - val_accuracy: 1.0000 - val_loss: 0.5258\n",
            "Epoch 3/20\n",
            "\u001b[1m3/3\u001b[0m \u001b[32m━━━━━━━━━━━━━━━━━━━━\u001b[0m\u001b[37m\u001b[0m \u001b[1m0s\u001b[0m 60ms/step - AUC: 0.7768 - accuracy: 0.6202 - loss: 0.6329 - val_AUC: 0.0000e+00 - val_accuracy: 1.0000 - val_loss: 0.5164\n",
            "Epoch 4/20\n",
            "\u001b[1m3/3\u001b[0m \u001b[32m━━━━━━━━━━━━━━━━━━━━\u001b[0m\u001b[37m\u001b[0m \u001b[1m0s\u001b[0m 51ms/step - AUC: 0.7932 - accuracy: 0.7105 - loss: 0.6156 - val_AUC: 0.0000e+00 - val_accuracy: 1.0000 - val_loss: 0.5158\n",
            "Epoch 5/20\n",
            "\u001b[1m3/3\u001b[0m \u001b[32m━━━━━━━━━━━━━━━━━━━━\u001b[0m\u001b[37m\u001b[0m \u001b[1m0s\u001b[0m 50ms/step - AUC: 0.8951 - accuracy: 0.7780 - loss: 0.5805 - val_AUC: 0.0000e+00 - val_accuracy: 0.8000 - val_loss: 0.5055\n",
            "Epoch 6/20\n",
            "\u001b[1m3/3\u001b[0m \u001b[32m━━━━━━━━━━━━━━━━━━━━\u001b[0m\u001b[37m\u001b[0m \u001b[1m0s\u001b[0m 51ms/step - AUC: 0.8867 - accuracy: 0.7440 - loss: 0.5822 - val_AUC: 0.0000e+00 - val_accuracy: 0.8000 - val_loss: 0.4980\n",
            "Epoch 7/20\n",
            "\u001b[1m3/3\u001b[0m \u001b[32m━━━━━━━━━━━━━━━━━━━━\u001b[0m\u001b[37m\u001b[0m \u001b[1m0s\u001b[0m 51ms/step - AUC: 0.8592 - accuracy: 0.7234 - loss: 0.5633 - val_AUC: 0.0000e+00 - val_accuracy: 0.8000 - val_loss: 0.4869\n",
            "Epoch 8/20\n",
            "\u001b[1m3/3\u001b[0m \u001b[32m━━━━━━━━━━━━━━━━━━━━\u001b[0m\u001b[37m\u001b[0m \u001b[1m0s\u001b[0m 51ms/step - AUC: 0.8644 - accuracy: 0.7546 - loss: 0.5319 - val_AUC: 0.0000e+00 - val_accuracy: 0.8000 - val_loss: 0.5136\n",
            "Epoch 9/20\n",
            "\u001b[1m3/3\u001b[0m \u001b[32m━━━━━━━━━━━━━━━━━━━━\u001b[0m\u001b[37m\u001b[0m \u001b[1m0s\u001b[0m 53ms/step - AUC: 0.8669 - accuracy: 0.7730 - loss: 0.4869 - val_AUC: 0.0000e+00 - val_accuracy: 0.8000 - val_loss: 0.5098\n",
            "Epoch 10/20\n",
            "\u001b[1m3/3\u001b[0m \u001b[32m━━━━━━━━━━━━━━━━━━━━\u001b[0m\u001b[37m\u001b[0m \u001b[1m0s\u001b[0m 65ms/step - AUC: 0.8960 - accuracy: 0.8321 - loss: 0.4602 - val_AUC: 0.0000e+00 - val_accuracy: 0.8000 - val_loss: 0.5841\n",
            "Epoch 11/20\n",
            "\u001b[1m3/3\u001b[0m \u001b[32m━━━━━━━━━━━━━━━━━━━━\u001b[0m\u001b[37m\u001b[0m \u001b[1m0s\u001b[0m 50ms/step - AUC: 0.9182 - accuracy: 0.7881 - loss: 0.4576 - val_AUC: 0.0000e+00 - val_accuracy: 0.8000 - val_loss: 0.6337\n",
            "Epoch 12/20\n",
            "\u001b[1m3/3\u001b[0m \u001b[32m━━━━━━━━━━━━━━━━━━━━\u001b[0m\u001b[37m\u001b[0m \u001b[1m0s\u001b[0m 50ms/step - AUC: 0.8417 - accuracy: 0.7802 - loss: 0.4846 - val_AUC: 0.0000e+00 - val_accuracy: 0.8000 - val_loss: 0.6047\n",
            "Epoch 13/20\n",
            "\u001b[1m3/3\u001b[0m \u001b[32m━━━━━━━━━━━━━━━━━━━━\u001b[0m\u001b[37m\u001b[0m \u001b[1m0s\u001b[0m 65ms/step - AUC: 0.8593 - accuracy: 0.7518 - loss: 0.4625 - val_AUC: 0.0000e+00 - val_accuracy: 0.8000 - val_loss: 0.5186\n",
            "Epoch 14/20\n",
            "\u001b[1m3/3\u001b[0m \u001b[32m━━━━━━━━━━━━━━━━━━━━\u001b[0m\u001b[37m\u001b[0m \u001b[1m0s\u001b[0m 50ms/step - AUC: 0.9282 - accuracy: 0.8634 - loss: 0.3783 - val_AUC: 0.0000e+00 - val_accuracy: 0.8000 - val_loss: 0.5096\n",
            "Epoch 15/20\n",
            "\u001b[1m3/3\u001b[0m \u001b[32m━━━━━━━━━━━━━━━━━━━━\u001b[0m\u001b[37m\u001b[0m \u001b[1m0s\u001b[0m 57ms/step - AUC: 0.9216 - accuracy: 0.8193 - loss: 0.3806 - val_AUC: 0.0000e+00 - val_accuracy: 0.8000 - val_loss: 0.6493\n",
            "Epoch 16/20\n",
            "\u001b[1m3/3\u001b[0m \u001b[32m━━━━━━━━━━━━━━━━━━━━\u001b[0m\u001b[37m\u001b[0m \u001b[1m0s\u001b[0m 51ms/step - AUC: 0.9801 - accuracy: 0.9303 - loss: 0.3363 - val_AUC: 0.0000e+00 - val_accuracy: 0.6000 - val_loss: 0.8004\n",
            "Epoch 17/20\n",
            "\u001b[1m3/3\u001b[0m \u001b[32m━━━━━━━━━━━━━━━━━━━━\u001b[0m\u001b[37m\u001b[0m \u001b[1m0s\u001b[0m 66ms/step - AUC: 0.9240 - accuracy: 0.8343 - loss: 0.3876 - val_AUC: 0.0000e+00 - val_accuracy: 0.6000 - val_loss: 0.8555\n",
            "Epoch 18/20\n",
            "\u001b[1m3/3\u001b[0m \u001b[32m━━━━━━━━━━━━━━━━━━━━\u001b[0m\u001b[37m\u001b[0m \u001b[1m0s\u001b[0m 50ms/step - AUC: 0.9358 - accuracy: 0.9147 - loss: 0.3520 - val_AUC: 0.0000e+00 - val_accuracy: 0.8000 - val_loss: 0.7134\n",
            "Epoch 19/20\n",
            "\u001b[1m3/3\u001b[0m \u001b[32m━━━━━━━━━━━━━━━━━━━━\u001b[0m\u001b[37m\u001b[0m \u001b[1m0s\u001b[0m 50ms/step - AUC: 0.9601 - accuracy: 0.8271 - loss: 0.3297 - val_AUC: 0.0000e+00 - val_accuracy: 0.8000 - val_loss: 0.6492\n",
            "Epoch 20/20\n",
            "\u001b[1m3/3\u001b[0m \u001b[32m━━━━━━━━━━━━━━━━━━━━\u001b[0m\u001b[37m\u001b[0m \u001b[1m0s\u001b[0m 67ms/step - AUC: 0.9800 - accuracy: 0.9097 - loss: 0.2596 - val_AUC: 0.0000e+00 - val_accuracy: 0.8000 - val_loss: 0.7396\n"
          ]
        }
      ]
    },
    {
      "cell_type": "code",
      "source": [
        "loss, auc, acc = model1.evaluate(X_test, y_test)\n",
        "print(f\"Test AUC: {auc:.3f}, Accuracy: {acc:.3f}\")"
      ],
      "metadata": {
        "colab": {
          "base_uri": "https://localhost:8080/"
        },
        "id": "IPrUAOQNmn1S",
        "outputId": "b03f78db-fb1a-4332-ba2a-99cdf1608ef7"
      },
      "execution_count": 386,
      "outputs": [
        {
          "output_type": "stream",
          "name": "stdout",
          "text": [
            "\u001b[1m1/1\u001b[0m \u001b[32m━━━━━━━━━━━━━━━━━━━━\u001b[0m\u001b[37m\u001b[0m \u001b[1m0s\u001b[0m 67ms/step - AUC: 0.6250 - accuracy: 0.5833 - loss: 0.6565\n",
            "Test AUC: 0.625, Accuracy: 0.583\n"
          ]
        }
      ]
    },
    {
      "cell_type": "code",
      "source": [
        "sns.countplot(x=df['sentiment'])\n",
        "plt.title('Тональности')\n",
        "plt.show()\n",
        "\n",
        "sns.countplot(x=df['sentiment_binary'])\n",
        "plt.title('(нейтральные эмоциональные)')\n",
        "plt.show()"
      ],
      "metadata": {
        "colab": {
          "base_uri": "https://localhost:8080/",
          "height": 927
        },
        "id": "cPGDPL9aqN_t",
        "outputId": "c78e0407-491b-4d0d-b52e-2dd79c4433f8"
      },
      "execution_count": 387,
      "outputs": [
        {
          "output_type": "display_data",
          "data": {
            "text/plain": [
              "<Figure size 640x480 with 1 Axes>"
            ],
            "image/png": "[encoded data removed]"
          },
          "metadata": {}
        },
        {
          "output_type": "display_data",
          "data": {
            "text/plain": [
              "<Figure size 640x480 with 1 Axes>"
            ],
            "image/png": "[encoded data removed]"
          },
          "metadata": {}
        }
      ]
    },
    {
      "cell_type": "code",
      "source": [
        "from sklearn.decomposition import PCA\n",
        "\n",
        "pca = PCA(n_components=2)\n",
        "reduced_emb = pca.fit_transform(embeddings)\n",
        "\n",
        "plt.figure(figsize=(8,6))\n",
        "sns.scatterplot(x=reduced_emb[:,0], y=reduced_emb[:,1], hue=df['topic_cluster'], palette='tab10')\n",
        "plt.title('Кластеризация тем новостей')\n",
        "plt.show()\n"
      ],
      "metadata": {
        "colab": {
          "base_uri": "https://localhost:8080/",
          "height": 545
        },
        "id": "C_3a37vWqVlt",
        "outputId": "d94893c1-d439-4940-e75a-5f42159f88de"
      },
      "execution_count": 388,
      "outputs": [
        {
          "output_type": "display_data",
          "data": {
            "text/plain": [
              "<Figure size 800x600 with 1 Axes>"
            ],
            "image/png": "[encoded data removed]"
          },
          "metadata": {}
        }
      ]
    },
    {
      "cell_type": "code",
      "source": [
        "from sklearn.metrics import roc_curve, auc\n",
        "\n",
        "y_pred = model1.predict(X_test).ravel()\n",
        "fpr, tpr, thresholds = roc_curve(y_test, y_pred)\n",
        "roc_auc = auc(fpr, tpr)\n",
        "\n",
        "plt.figure()\n",
        "plt.plot(fpr, tpr, color='darkorange', lw=2, label=f'ROC-кривая (AUC = {roc_auc:.2f})')\n",
        "plt.plot([0, 1], [0, 1], color='navy', lw=2, linestyle='--')\n",
        "plt.xlabel('False Positive Rate')\n",
        "plt.ylabel('True Positive Rate')\n",
        "plt.title('ROC-кривая на тесте')\n",
        "plt.legend(loc=\"lower right\")\n",
        "plt.show()\n"
      ],
      "metadata": {
        "colab": {
          "base_uri": "https://localhost:8080/",
          "height": 493
        },
        "id": "lhgzRh3uqY5n",
        "outputId": "a1f714c3-112c-4ef2-d78a-db0a4202e848"
      },
      "execution_count": 391,
      "outputs": [
        {
          "output_type": "stream",
          "name": "stdout",
          "text": [
            "\u001b[1m1/1\u001b[0m \u001b[32m━━━━━━━━━━━━━━━━━━━━\u001b[0m\u001b[37m\u001b[0m \u001b[1m0s\u001b[0m 44ms/step\n"
          ]
        },
        {
          "output_type": "display_data",
          "data": {
            "text/plain": [
              "<Figure size 640x480 with 1 Axes>"
            ],
            "image/png": "[encoded data removed]"
          },
          "metadata": {}
        }
      ]
    },
    {
      "cell_type": "code",
      "source": [
        "plt.plot(df['sentiment_binary'].rolling(10).mean())\n",
        "plt.title('Скользящее среднее эмоциональности новостей')\n",
        "plt.xlabel('Индекс новости')\n",
        "plt.ylabel('Средняя эмоциональность')\n",
        "plt.show()\n"
      ],
      "metadata": {
        "colab": {
          "base_uri": "https://localhost:8080/",
          "height": 472
        },
        "id": "IZtin5BsqgY7",
        "outputId": "23883641-0e99-44e1-fa2a-89c049a97d6a"
      },
      "execution_count": 390,
      "outputs": [
        {
          "output_type": "display_data",
          "data": {
            "text/plain": [
              "<Figure size 640x480 with 1 Axes>"
            ],
            "image/png": "[encoded data removed]"
          },
          "metadata": {}
        }
      ]
    }
  ]
}